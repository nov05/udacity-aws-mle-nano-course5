{
 "cells": [
  {
   "cell_type": "markdown",
   "metadata": {},
   "source": [
    "* created by nov05 on 2024-12-19"
   ]
  },
  {
   "cell_type": "code",
   "execution_count": 5,
   "metadata": {},
   "outputs": [],
   "source": [
    "## windows cmd to launch notepad to edit aws credential file\n",
    "!notepad C:\\Users\\guido\\.aws\\credentials"
   ]
  },
  {
   "cell_type": "code",
   "execution_count": 6,
   "metadata": {},
   "outputs": [
    {
     "name": "stderr",
     "output_type": "stream",
     "text": [
      "d:\\Users\\guido\\miniconda3\\envs\\awsmle_py310\\lib\\site-packages\\pydantic\\_internal\\_fields.py:192: UserWarning: Field name \"json\" in \"MonitoringDatasetFormat\" shadows an attribute in parent \"Base\"\n",
      "  warnings.warn(\n"
     ]
    },
    {
     "data": {
      "text/html": [
       "<pre style=\"white-space:pre;overflow-x:auto;line-height:normal;font-family:Menlo,'DejaVu Sans Mono',consolas,'Courier New',monospace\"><span style=\"color: #7fbfbf; text-decoration-color: #7fbfbf\">[12/20/24 09:32:09] </span><span style=\"color: #0069ff; text-decoration-color: #0069ff; font-weight: bold\">INFO    </span> Found credentials in shared credentials file: ~<span style=\"color: #e100e1; text-decoration-color: #e100e1\">/.aws/credentials</span>   <a href=\"file://d:\\Users\\guido\\miniconda3\\envs\\awsmle_py310\\lib\\site-packages\\botocore\\credentials.py\" target=\"_blank\"><span style=\"color: #7f7f7f; text-decoration-color: #7f7f7f\">credentials.py</span></a><span style=\"color: #7f7f7f; text-decoration-color: #7f7f7f\">:</span><a href=\"file://d:\\Users\\guido\\miniconda3\\envs\\awsmle_py310\\lib\\site-packages\\botocore\\credentials.py#1278\" target=\"_blank\"><span style=\"color: #7f7f7f; text-decoration-color: #7f7f7f\">1278</span></a>\n",
       "</pre>\n"
      ],
      "text/plain": [
       "\u001b[2;36m[12/20/24 09:32:09]\u001b[0m\u001b[2;36m \u001b[0m\u001b[1;38;2;0;105;255mINFO    \u001b[0m Found credentials in shared credentials file: ~\u001b[38;2;225;0;225m/.aws/\u001b[0m\u001b[38;2;225;0;225mcredentials\u001b[0m   \u001b]8;id=605027;file://d:\\Users\\guido\\miniconda3\\envs\\awsmle_py310\\lib\\site-packages\\botocore\\credentials.py\u001b\\\u001b[2mcredentials.py\u001b[0m\u001b]8;;\u001b\\\u001b[2m:\u001b[0m\u001b]8;id=638277;file://d:\\Users\\guido\\miniconda3\\envs\\awsmle_py310\\lib\\site-packages\\botocore\\credentials.py#1278\u001b\\\u001b[2m1278\u001b[0m\u001b]8;;\u001b\\\n"
      ]
     },
     "metadata": {},
     "output_type": "display_data"
    },
    {
     "name": "stdout",
     "output_type": "stream",
     "text": [
      "sagemaker.config INFO - Not applying SDK defaults from location: C:\\ProgramData\\sagemaker\\sagemaker\\config.yaml\n",
      "sagemaker.config INFO - Not applying SDK defaults from location: C:\\Users\\guido\\AppData\\Local\\sagemaker\\sagemaker\\config.yaml\n"
     ]
    },
    {
     "data": {
      "text/html": [
       "<pre style=\"white-space:pre;overflow-x:auto;line-height:normal;font-family:Menlo,'DejaVu Sans Mono',consolas,'Courier New',monospace\"><span style=\"color: #7fbfbf; text-decoration-color: #7fbfbf\">[12/20/24 09:32:11] </span><span style=\"color: #0069ff; text-decoration-color: #0069ff; font-weight: bold\">INFO    </span> Found credentials in shared credentials file: ~<span style=\"color: #e100e1; text-decoration-color: #e100e1\">/.aws/credentials</span>   <a href=\"file://d:\\Users\\guido\\miniconda3\\envs\\awsmle_py310\\lib\\site-packages\\botocore\\credentials.py\" target=\"_blank\"><span style=\"color: #7f7f7f; text-decoration-color: #7f7f7f\">credentials.py</span></a><span style=\"color: #7f7f7f; text-decoration-color: #7f7f7f\">:</span><a href=\"file://d:\\Users\\guido\\miniconda3\\envs\\awsmle_py310\\lib\\site-packages\\botocore\\credentials.py#1278\" target=\"_blank\"><span style=\"color: #7f7f7f; text-decoration-color: #7f7f7f\">1278</span></a>\n",
       "</pre>\n"
      ],
      "text/plain": [
       "\u001b[2;36m[12/20/24 09:32:11]\u001b[0m\u001b[2;36m \u001b[0m\u001b[1;38;2;0;105;255mINFO    \u001b[0m Found credentials in shared credentials file: ~\u001b[38;2;225;0;225m/.aws/\u001b[0m\u001b[38;2;225;0;225mcredentials\u001b[0m   \u001b]8;id=404438;file://d:\\Users\\guido\\miniconda3\\envs\\awsmle_py310\\lib\\site-packages\\botocore\\credentials.py\u001b\\\u001b[2mcredentials.py\u001b[0m\u001b]8;;\u001b\\\u001b[2m:\u001b[0m\u001b]8;id=164939;file://d:\\Users\\guido\\miniconda3\\envs\\awsmle_py310\\lib\\site-packages\\botocore\\credentials.py#1278\u001b\\\u001b[2m1278\u001b[0m\u001b]8;;\u001b\\\n"
      ]
     },
     "metadata": {},
     "output_type": "display_data"
    },
    {
     "data": {
      "text/html": [
       "<pre style=\"white-space:pre;overflow-x:auto;line-height:normal;font-family:Menlo,'DejaVu Sans Mono',consolas,'Courier New',monospace\"><span style=\"color: #7fbfbf; text-decoration-color: #7fbfbf\">[12/20/24 09:32:13] </span><span style=\"color: #d7af00; text-decoration-color: #d7af00; font-weight: bold\">WARNING </span> Couldn't call <span style=\"color: #008700; text-decoration-color: #008700\">'get_role'</span> to get Role ARN from role name voclabs to get <a href=\"file://d:\\Users\\guido\\miniconda3\\envs\\awsmle_py310\\lib\\site-packages\\sagemaker\\session.py\" target=\"_blank\"><span style=\"color: #7f7f7f; text-decoration-color: #7f7f7f\">session.py</span></a><span style=\"color: #7f7f7f; text-decoration-color: #7f7f7f\">:</span><a href=\"file://d:\\Users\\guido\\miniconda3\\envs\\awsmle_py310\\lib\\site-packages\\sagemaker\\session.py#5902\" target=\"_blank\"><span style=\"color: #7f7f7f; text-decoration-color: #7f7f7f\">5902</span></a>\n",
       "<span style=\"color: #7fbfbf; text-decoration-color: #7fbfbf\">                    </span>         Role path.                                                             <span style=\"color: #7f7f7f; text-decoration-color: #7f7f7f\">               </span>\n",
       "</pre>\n"
      ],
      "text/plain": [
       "\u001b[2;36m[12/20/24 09:32:13]\u001b[0m\u001b[2;36m \u001b[0m\u001b[1;38;2;215;175;0mWARNING \u001b[0m Couldn't call \u001b[38;2;0;135;0m'get_role'\u001b[0m to get Role ARN from role name voclabs to get \u001b]8;id=33688;file://d:\\Users\\guido\\miniconda3\\envs\\awsmle_py310\\lib\\site-packages\\sagemaker\\session.py\u001b\\\u001b[2msession.py\u001b[0m\u001b]8;;\u001b\\\u001b[2m:\u001b[0m\u001b]8;id=2825;file://d:\\Users\\guido\\miniconda3\\envs\\awsmle_py310\\lib\\site-packages\\sagemaker\\session.py#5902\u001b\\\u001b[2m5902\u001b[0m\u001b]8;;\u001b\\\n",
       "\u001b[2;36m                    \u001b[0m         Role path.                                                             \u001b[2m               \u001b[0m\n"
      ]
     },
     "metadata": {},
     "output_type": "display_data"
    },
    {
     "data": {
      "text/html": [
       "<pre style=\"white-space:pre;overflow-x:auto;line-height:normal;font-family:Menlo,'DejaVu Sans Mono',consolas,'Courier New',monospace\"><span style=\"color: #7fbfbf; text-decoration-color: #7fbfbf\">                    </span><span style=\"color: #0069ff; text-decoration-color: #0069ff; font-weight: bold\">INFO    </span> Found credentials in shared credentials file: ~<span style=\"color: #e100e1; text-decoration-color: #e100e1\">/.aws/credentials</span>   <a href=\"file://d:\\Users\\guido\\miniconda3\\envs\\awsmle_py310\\lib\\site-packages\\botocore\\credentials.py\" target=\"_blank\"><span style=\"color: #7f7f7f; text-decoration-color: #7f7f7f\">credentials.py</span></a><span style=\"color: #7f7f7f; text-decoration-color: #7f7f7f\">:</span><a href=\"file://d:\\Users\\guido\\miniconda3\\envs\\awsmle_py310\\lib\\site-packages\\botocore\\credentials.py#1278\" target=\"_blank\"><span style=\"color: #7f7f7f; text-decoration-color: #7f7f7f\">1278</span></a>\n",
       "</pre>\n"
      ],
      "text/plain": [
       "\u001b[2;36m                   \u001b[0m\u001b[2;36m \u001b[0m\u001b[1;38;2;0;105;255mINFO    \u001b[0m Found credentials in shared credentials file: ~\u001b[38;2;225;0;225m/.aws/\u001b[0m\u001b[38;2;225;0;225mcredentials\u001b[0m   \u001b]8;id=777986;file://d:\\Users\\guido\\miniconda3\\envs\\awsmle_py310\\lib\\site-packages\\botocore\\credentials.py\u001b\\\u001b[2mcredentials.py\u001b[0m\u001b]8;;\u001b\\\u001b[2m:\u001b[0m\u001b]8;id=203118;file://d:\\Users\\guido\\miniconda3\\envs\\awsmle_py310\\lib\\site-packages\\botocore\\credentials.py#1278\u001b\\\u001b[2m1278\u001b[0m\u001b]8;;\u001b\\\n"
      ]
     },
     "metadata": {},
     "output_type": "display_data"
    },
    {
     "name": "stdout",
     "output_type": "stream",
     "text": [
      "AWS Region: us-east-1\n",
      "Default Bucket: sagemaker-us-east-1-026211625715\n",
      "Role ARN: arn:aws:iam::026211625715:role/service-role/AmazonSageMaker-ExecutionRole-20241209T041445\n",
      "Role voclabs ARN: arn:aws:iam::026211625715:role/voclabs\n"
     ]
    }
   ],
   "source": [
    "## reset the session after updating credentials\n",
    "import boto3 # type: ignore\n",
    "boto3.DEFAULT_SESSION = None\n",
    "import sagemaker # type: ignore\n",
    "from sagemaker import get_execution_role # type: ignore\n",
    "role_arn = get_execution_role()  ## get role ARN\n",
    "if 'AmazonSageMaker-ExecutionRole' not in role_arn:\n",
    "    ## Go to \"IAM - Roles\", search for \"SageMaker\", find the execution role.\n",
    "    voclabs_role_arn = role_arn\n",
    "    role_arn = \"arn:aws:iam::026211625715:role/service-role/AmazonSageMaker-ExecutionRole-20241209T041445\"\n",
    "session = sagemaker.Session()\n",
    "region = session.boto_region_name\n",
    "bucket = session.default_bucket()\n",
    "print(\"AWS Region: {}\".format(region))\n",
    "print(\"Default Bucket: {}\".format(bucket))\n",
    "print(\"Role ARN: {}\".format(role_arn))\n",
    "print(f\"Role voclabs ARN: {voclabs_role_arn}\")  ## If local, Role ARN: arn:aws:iam::026211625715:role/voclabs"
   ]
  },
  {
   "cell_type": "code",
   "execution_count": 11,
   "metadata": {},
   "outputs": [
    {
     "data": {
      "text/html": [
       "<pre style=\"white-space:pre;overflow-x:auto;line-height:normal;font-family:Menlo,'DejaVu Sans Mono',consolas,'Courier New',monospace\"><span style=\"color: #7fbfbf; text-decoration-color: #7fbfbf\">[12/20/24 10:42:02] </span><span style=\"color: #0069ff; text-decoration-color: #0069ff; font-weight: bold\">INFO    </span> Found credentials in shared credentials file: ~<span style=\"color: #e100e1; text-decoration-color: #e100e1\">/.aws/credentials</span>   <a href=\"file://d:\\Users\\guido\\miniconda3\\envs\\awsmle_py310\\lib\\site-packages\\botocore\\credentials.py\" target=\"_blank\"><span style=\"color: #7f7f7f; text-decoration-color: #7f7f7f\">credentials.py</span></a><span style=\"color: #7f7f7f; text-decoration-color: #7f7f7f\">:</span><a href=\"file://d:\\Users\\guido\\miniconda3\\envs\\awsmle_py310\\lib\\site-packages\\botocore\\credentials.py#1278\" target=\"_blank\"><span style=\"color: #7f7f7f; text-decoration-color: #7f7f7f\">1278</span></a>\n",
       "</pre>\n"
      ],
      "text/plain": [
       "\u001b[2;36m[12/20/24 10:42:02]\u001b[0m\u001b[2;36m \u001b[0m\u001b[1;38;2;0;105;255mINFO    \u001b[0m Found credentials in shared credentials file: ~\u001b[38;2;225;0;225m/.aws/\u001b[0m\u001b[38;2;225;0;225mcredentials\u001b[0m   \u001b]8;id=862429;file://d:\\Users\\guido\\miniconda3\\envs\\awsmle_py310\\lib\\site-packages\\botocore\\credentials.py\u001b\\\u001b[2mcredentials.py\u001b[0m\u001b]8;;\u001b\\\u001b[2m:\u001b[0m\u001b]8;id=56167;file://d:\\Users\\guido\\miniconda3\\envs\\awsmle_py310\\lib\\site-packages\\botocore\\credentials.py#1278\u001b\\\u001b[2m1278\u001b[0m\u001b]8;;\u001b\\\n"
      ]
     },
     "metadata": {},
     "output_type": "display_data"
    },
    {
     "data": {
      "text/html": [
       "<pre style=\"white-space:pre;overflow-x:auto;line-height:normal;font-family:Menlo,'DejaVu Sans Mono',consolas,'Courier New',monospace\"><span style=\"color: #7fbfbf; text-decoration-color: #7fbfbf\">[12/20/24 10:42:05] </span><span style=\"color: #0069ff; text-decoration-color: #0069ff; font-weight: bold\">INFO    </span> Repacking model artifact                                                  <a href=\"file://d:\\Users\\guido\\miniconda3\\envs\\awsmle_py310\\lib\\site-packages\\sagemaker\\model.py\" target=\"_blank\"><span style=\"color: #7f7f7f; text-decoration-color: #7f7f7f\">model.py</span></a><span style=\"color: #7f7f7f; text-decoration-color: #7f7f7f\">:</span><a href=\"file://d:\\Users\\guido\\miniconda3\\envs\\awsmle_py310\\lib\\site-packages\\sagemaker\\model.py#819\" target=\"_blank\"><span style=\"color: #7f7f7f; text-decoration-color: #7f7f7f\">819</span></a>\n",
       "<span style=\"color: #7fbfbf; text-decoration-color: #7fbfbf\">                    </span>         <span style=\"font-weight: bold\">(</span>s3:<span style=\"color: #e100e1; text-decoration-color: #e100e1\">//sagemaker-us-east-1-026211625715/pytorch-training-2024-12-18-10-07-</span> <span style=\"color: #7f7f7f; text-decoration-color: #7f7f7f\">            </span>\n",
       "<span style=\"color: #7fbfbf; text-decoration-color: #7fbfbf\">                    </span>         <span style=\"color: #e100e1; text-decoration-color: #e100e1\">24-542/output/model.tar.gz</span><span style=\"font-weight: bold\">)</span>, script artifact <span style=\"font-weight: bold\">(</span><span style=\"color: #e100e1; text-decoration-color: #e100e1; font-style: italic\">None</span><span style=\"font-weight: bold\">)</span>, and dependencies     <span style=\"color: #7f7f7f; text-decoration-color: #7f7f7f\">            </span>\n",
       "<span style=\"color: #7fbfbf; text-decoration-color: #7fbfbf\">                    </span>         <span style=\"font-weight: bold\">([])</span> into single tar.gz file located at                                   <span style=\"color: #7f7f7f; text-decoration-color: #7f7f7f\">            </span>\n",
       "<span style=\"color: #7fbfbf; text-decoration-color: #7fbfbf\">                    </span>         s3:<span style=\"color: #e100e1; text-decoration-color: #e100e1\">//sagemaker-us-east-1-026211625715/pytorch-inference-2024-12-20-16-42-</span> <span style=\"color: #7f7f7f; text-decoration-color: #7f7f7f\">            </span>\n",
       "<span style=\"color: #7fbfbf; text-decoration-color: #7fbfbf\">                    </span>         <span style=\"color: #e100e1; text-decoration-color: #e100e1\">02-814/model.tar.gz.</span> This may take some time depending on model size<span style=\"color: #808000; text-decoration-color: #808000\">...</span>   <span style=\"color: #7f7f7f; text-decoration-color: #7f7f7f\">            </span>\n",
       "</pre>\n"
      ],
      "text/plain": [
       "\u001b[2;36m[12/20/24 10:42:05]\u001b[0m\u001b[2;36m \u001b[0m\u001b[1;38;2;0;105;255mINFO    \u001b[0m Repacking model artifact                                                  \u001b]8;id=252768;file://d:\\Users\\guido\\miniconda3\\envs\\awsmle_py310\\lib\\site-packages\\sagemaker\\model.py\u001b\\\u001b[2mmodel.py\u001b[0m\u001b]8;;\u001b\\\u001b[2m:\u001b[0m\u001b]8;id=44285;file://d:\\Users\\guido\\miniconda3\\envs\\awsmle_py310\\lib\\site-packages\\sagemaker\\model.py#819\u001b\\\u001b[2m819\u001b[0m\u001b]8;;\u001b\\\n",
       "\u001b[2;36m                    \u001b[0m         \u001b[1m(\u001b[0ms3:\u001b[38;2;225;0;225m/\u001b[0m\u001b[38;2;225;0;225m/sagemaker-us-east-1-026211625715/pytorch-training-2024-12-18-10-07-\u001b[0m \u001b[2m            \u001b[0m\n",
       "\u001b[2;36m                    \u001b[0m         \u001b[38;2;225;0;225m24-542/output/\u001b[0m\u001b[38;2;225;0;225mmodel.tar.gz\u001b[0m\u001b[1m)\u001b[0m, script artifact \u001b[1m(\u001b[0m\u001b[3;38;2;225;0;225mNone\u001b[0m\u001b[1m)\u001b[0m, and dependencies     \u001b[2m            \u001b[0m\n",
       "\u001b[2;36m                    \u001b[0m         \u001b[1m(\u001b[0m\u001b[1m[\u001b[0m\u001b[1m]\u001b[0m\u001b[1m)\u001b[0m into single tar.gz file located at                                   \u001b[2m            \u001b[0m\n",
       "\u001b[2;36m                    \u001b[0m         s3:\u001b[38;2;225;0;225m/\u001b[0m\u001b[38;2;225;0;225m/sagemaker-us-east-1-026211625715/pytorch-inference-2024-12-20-16-42-\u001b[0m \u001b[2m            \u001b[0m\n",
       "\u001b[2;36m                    \u001b[0m         \u001b[38;2;225;0;225m02-814/\u001b[0m\u001b[38;2;225;0;225mmodel.tar.gz.\u001b[0m This may take some time depending on model size\u001b[33m...\u001b[0m   \u001b[2m            \u001b[0m\n"
      ]
     },
     "metadata": {},
     "output_type": "display_data"
    },
    {
     "data": {
      "text/html": [
       "<pre style=\"white-space:pre;overflow-x:auto;line-height:normal;font-family:Menlo,'DejaVu Sans Mono',consolas,'Courier New',monospace\"><span style=\"color: #7fbfbf; text-decoration-color: #7fbfbf\">[12/20/24 10:42:34] </span><span style=\"color: #0069ff; text-decoration-color: #0069ff; font-weight: bold\">INFO    </span> Creating model with name: pytorch-inference-<span style=\"color: #008080; text-decoration-color: #008080; font-weight: bold\">2024</span>-12-20-16-42-34-554    <a href=\"file://d:\\Users\\guido\\miniconda3\\envs\\awsmle_py310\\lib\\site-packages\\sagemaker\\session.py\" target=\"_blank\"><span style=\"color: #7f7f7f; text-decoration-color: #7f7f7f\">session.py</span></a><span style=\"color: #7f7f7f; text-decoration-color: #7f7f7f\">:</span><a href=\"file://d:\\Users\\guido\\miniconda3\\envs\\awsmle_py310\\lib\\site-packages\\sagemaker\\session.py#4025\" target=\"_blank\"><span style=\"color: #7f7f7f; text-decoration-color: #7f7f7f\">4025</span></a>\n",
       "</pre>\n"
      ],
      "text/plain": [
       "\u001b[2;36m[12/20/24 10:42:34]\u001b[0m\u001b[2;36m \u001b[0m\u001b[1;38;2;0;105;255mINFO    \u001b[0m Creating model with name: pytorch-inference-\u001b[1;36m2024\u001b[0m-12-20-16-42-34-554    \u001b]8;id=328187;file://d:\\Users\\guido\\miniconda3\\envs\\awsmle_py310\\lib\\site-packages\\sagemaker\\session.py\u001b\\\u001b[2msession.py\u001b[0m\u001b]8;;\u001b\\\u001b[2m:\u001b[0m\u001b]8;id=430393;file://d:\\Users\\guido\\miniconda3\\envs\\awsmle_py310\\lib\\site-packages\\sagemaker\\session.py#4025\u001b\\\u001b[2m4025\u001b[0m\u001b]8;;\u001b\\\n"
      ]
     },
     "metadata": {},
     "output_type": "display_data"
    },
    {
     "data": {
      "text/html": [
       "<pre style=\"white-space:pre;overflow-x:auto;line-height:normal;font-family:Menlo,'DejaVu Sans Mono',consolas,'Courier New',monospace\"><span style=\"color: #7fbfbf; text-decoration-color: #7fbfbf\">[12/20/24 10:42:35] </span><span style=\"color: #0069ff; text-decoration-color: #0069ff; font-weight: bold\">INFO    </span> Creating endpoint-config with name p4-dog-breed-classification         <a href=\"file://d:\\Users\\guido\\miniconda3\\envs\\awsmle_py310\\lib\\site-packages\\sagemaker\\session.py\" target=\"_blank\"><span style=\"color: #7f7f7f; text-decoration-color: #7f7f7f\">session.py</span></a><span style=\"color: #7f7f7f; text-decoration-color: #7f7f7f\">:</span><a href=\"file://d:\\Users\\guido\\miniconda3\\envs\\awsmle_py310\\lib\\site-packages\\sagemaker\\session.py#5820\" target=\"_blank\"><span style=\"color: #7f7f7f; text-decoration-color: #7f7f7f\">5820</span></a>\n",
       "</pre>\n"
      ],
      "text/plain": [
       "\u001b[2;36m[12/20/24 10:42:35]\u001b[0m\u001b[2;36m \u001b[0m\u001b[1;38;2;0;105;255mINFO    \u001b[0m Creating endpoint-config with name p4-dog-breed-classification         \u001b]8;id=642818;file://d:\\Users\\guido\\miniconda3\\envs\\awsmle_py310\\lib\\site-packages\\sagemaker\\session.py\u001b\\\u001b[2msession.py\u001b[0m\u001b]8;;\u001b\\\u001b[2m:\u001b[0m\u001b]8;id=442321;file://d:\\Users\\guido\\miniconda3\\envs\\awsmle_py310\\lib\\site-packages\\sagemaker\\session.py#5820\u001b\\\u001b[2m5820\u001b[0m\u001b]8;;\u001b\\\n"
      ]
     },
     "metadata": {},
     "output_type": "display_data"
    },
    {
     "data": {
      "text/html": [
       "<pre style=\"white-space:pre;overflow-x:auto;line-height:normal;font-family:Menlo,'DejaVu Sans Mono',consolas,'Courier New',monospace\"><span style=\"color: #7fbfbf; text-decoration-color: #7fbfbf\">[12/20/24 10:42:36] </span><span style=\"color: #0069ff; text-decoration-color: #0069ff; font-weight: bold\">INFO    </span> Creating endpoint with name p4-dog-breed-classification                <a href=\"file://d:\\Users\\guido\\miniconda3\\envs\\awsmle_py310\\lib\\site-packages\\sagemaker\\session.py\" target=\"_blank\"><span style=\"color: #7f7f7f; text-decoration-color: #7f7f7f\">session.py</span></a><span style=\"color: #7f7f7f; text-decoration-color: #7f7f7f\">:</span><a href=\"file://d:\\Users\\guido\\miniconda3\\envs\\awsmle_py310\\lib\\site-packages\\sagemaker\\session.py#4642\" target=\"_blank\"><span style=\"color: #7f7f7f; text-decoration-color: #7f7f7f\">4642</span></a>\n",
       "</pre>\n"
      ],
      "text/plain": [
       "\u001b[2;36m[12/20/24 10:42:36]\u001b[0m\u001b[2;36m \u001b[0m\u001b[1;38;2;0;105;255mINFO    \u001b[0m Creating endpoint with name p4-dog-breed-classification                \u001b]8;id=463060;file://d:\\Users\\guido\\miniconda3\\envs\\awsmle_py310\\lib\\site-packages\\sagemaker\\session.py\u001b\\\u001b[2msession.py\u001b[0m\u001b]8;;\u001b\\\u001b[2m:\u001b[0m\u001b]8;id=658125;file://d:\\Users\\guido\\miniconda3\\envs\\awsmle_py310\\lib\\site-packages\\sagemaker\\session.py#4642\u001b\\\u001b[2m4642\u001b[0m\u001b]8;;\u001b\\\n"
      ]
     },
     "metadata": {},
     "output_type": "display_data"
    },
    {
     "name": "stdout",
     "output_type": "stream",
     "text": [
      "------!CPU times: total: 8.33 s\n",
      "Wall time: 4min 6s\n"
     ]
    }
   ],
   "source": [
    "%%time\n",
    "from sagemaker.pytorch import PyTorchModel\n",
    "from sagemaker.predictor import Predictor\n",
    "from sagemaker.serializers import IdentitySerializer\n",
    "from sagemaker.deserializers import JSONDeserializer\n",
    "\n",
    "class PredictorSerializer(Predictor):\n",
    "    def __init__(self, *args, **kwargs):\n",
    "        super(PredictorSerializer, self).__init__(*args, **kwargs)\n",
    "        self.serializer = IdentitySerializer(\"image/jpeg\")\n",
    "        self.deserializer = JSONDeserializer() # To parse the response as JSON\n",
    "\n",
    "model_location = 's3://sagemaker-us-east-1-026211625715/pytorch-training-2024-12-18-10-07-24-542/output/model.tar.gz'\n",
    "pytorch_model = PyTorchModel(\n",
    "    model_data=model_location, \n",
    "    role=role_arn, \n",
    "    entry_point='infernce2.py',\n",
    "    py_version='py3',\n",
    "    framework_version='1.4',\n",
    "    predictor_cls=PredictorSerializer\n",
    ")\n",
    "predictor = pytorch_model.deploy(\n",
    "    initial_instance_count=1, \n",
    "    instance_type='ml.m5.large',\n",
    "    endpoint_name='p4-dog-breed-classification'\n",
    ")\n",
    "## 4m 4.3s"
   ]
  },
  {
   "cell_type": "code",
   "execution_count": null,
   "metadata": {},
   "outputs": [],
   "source": [
    "import boto3\n",
    "## delete the endpoint model\n",
    "sm_client = boto3.client('sagemaker')\n",
    "endpoint_info = sm_client.describe_endpoint(EndpointName=predictor.endpoint_name)\n",
    "endpoint_config_name = endpoint_info['EndpointConfigName']\n",
    "endpoint_config_info = sm_client.describe_endpoint_config(EndpointConfigName=endpoint_config_name)\n",
    "model_name = endpoint_config_info['ProductionVariants'][0]['ModelName']\n",
    "sm_client.delete_model(ModelName=model_name)\n",
    "print(\"🟢 Model deleted:\", model_name)\n",
    "## delete the endpoint\n",
    "predictor.delete_endpoint()\n",
    "print(\"🟢 Endpoint deleted:\", predictor.endpoint_name)"
   ]
  },
  {
   "cell_type": "code",
   "execution_count": 13,
   "metadata": {},
   "outputs": [
    {
     "name": "stdout",
     "output_type": "stream",
     "text": [
      "Deleting log stream: AllTraffic/i-0b15082fc2ac915d9...\n",
      "Deleting log stream: AllTraffic/i-0c84121b68e040f1e...\n",
      "Deleting log stream: AllTraffic/i-0fa0047e08c8e6608...\n",
      "🟢 All log streams deleted from log group: /aws/sagemaker/Endpoints/p4-dog-breed-classification\n"
     ]
    }
   ],
   "source": [
    "import boto3\n",
    "def delete_log_streams(s3_client_logs, log_group_name):\n",
    "    # Retrieve log streams from the specified log group\n",
    "    log_streams = s3_client_logs.describe_log_streams(logGroupName=log_group_name)\n",
    "    # Iterate through each log stream and delete it\n",
    "    for stream in log_streams['logStreams']:\n",
    "        log_stream_name = stream['logStreamName']\n",
    "        print(f\"Deleting log stream: {log_stream_name}...\")\n",
    "        s3_client_logs.delete_log_stream(logGroupName=log_group_name, logStreamName=log_stream_name)\n",
    "    print(f\"🟢 All log streams deleted from log group: {log_group_name}\")\n",
    "\n",
    "s3_client_logs = boto3.client('logs')\n",
    "log_group_name = \"/aws/sagemaker/Endpoints/p4-dog-breed-classification\"\n",
    "delete_log_streams(s3_client_logs, log_group_name)"
   ]
  },
  {
   "cell_type": "markdown",
   "metadata": {},
   "source": [
    "---   \n",
    "\n",
    "# **Helper code**  "
   ]
  },
  {
   "cell_type": "code",
   "execution_count": 1,
   "metadata": {},
   "outputs": [
    {
     "data": {
      "text/plain": [
       "'{\"url\": \"https://s3.amazonaws.com/cdn-origin-etr.akc.org/wp-content/uploads/2017/11/20113314/Carolina-Dog-standing-outdoors.jpg\"}'"
      ]
     },
     "execution_count": 1,
     "metadata": {},
     "output_type": "execute_result"
    }
   ],
   "source": [
    "## helper code: get lambda input field\n",
    "import json\n",
    "request_dict = {\"url\": \"https://s3.amazonaws.com/cdn-origin-etr.akc.org/wp-content/uploads/2017/11/20113314/Carolina-Dog-standing-outdoors.jpg\"}\n",
    "json.dumps(request_dict)"
   ]
  },
  {
   "cell_type": "code",
   "execution_count": 2,
   "metadata": {},
   "outputs": [
    {
     "name": "stdout",
     "output_type": "stream",
     "text": [
      "[1, 2, 0]\n"
     ]
    }
   ],
   "source": [
    "## helper code: np.argmax(response, 1)\n",
    "# Sample response (2D list)\n",
    "response = [\n",
    "    [0.1, 0.5, 0.4],\n",
    "    [0.3, 0.2, 0.5],\n",
    "    [0.7, 0.1, 0.2]\n",
    "]\n",
    "# Find the index of the maximum value for each row\n",
    "argmax_indices = [max(range(len(row)), key=row.__getitem__) for row in response]\n",
    "print(argmax_indices)"
   ]
  },
  {
   "cell_type": "code",
   "execution_count": 4,
   "metadata": {},
   "outputs": [
    {
     "name": "stdout",
     "output_type": "stream",
     "text": [
      "[56]\n"
     ]
    }
   ],
   "source": [
    "## helper code: np.argmax(response, 1)\n",
    "response = [[0.12362315505743027,\n",
    " 0.1924707293510437,\n",
    " -0.20855560898780823,\n",
    " 0.35920414328575134,\n",
    " 0.515799880027771,\n",
    " 0.10468658804893494,\n",
    " -0.06848450005054474,\n",
    " 0.5091232657432556,\n",
    " -0.6724733114242554,\n",
    " 0.24694481492042542,\n",
    " 0.38807186484336853,\n",
    " -0.0017203334718942642,\n",
    " 0.1444128155708313,\n",
    " 0.3559056222438812,\n",
    " 0.1482323706150055,\n",
    " 8.153356611728668e-05,\n",
    " 0.0832664892077446,\n",
    " -0.30893537402153015,\n",
    " -0.03560059890151024,\n",
    " -0.013139759190380573,\n",
    " 0.24271465837955475,\n",
    " -0.38126400113105774,\n",
    " 0.016143739223480225,\n",
    " 0.04776372015476227,\n",
    " -0.3131140470504761,\n",
    " 0.13241298496723175,\n",
    " 0.20108801126480103,\n",
    " -0.47472941875457764,\n",
    " 0.1652786284685135,\n",
    " -0.05932958424091339,\n",
    " 0.22977674007415771,\n",
    " 0.1883726567029953,\n",
    " -0.09642750024795532,\n",
    " -0.041276972740888596,\n",
    " 0.06366047263145447,\n",
    " 0.4179475009441376,\n",
    " 0.050274576991796494,\n",
    " 0.18753167986869812,\n",
    " 0.3124087154865265,\n",
    " 0.20434792339801788,\n",
    " 0.3538963496685028,\n",
    " 0.3188058137893677,\n",
    " 0.09767086803913116,\n",
    " 0.2015574425458908,\n",
    " 0.06633404642343521,\n",
    " 0.08412200957536697,\n",
    " 0.056016307324171066,\n",
    " -0.17052951455116272,\n",
    " -0.2349245250225067,\n",
    " -0.25639715790748596,\n",
    " 0.2086973637342453,\n",
    " 0.08721135556697845,\n",
    " -0.5352999567985535,\n",
    " -0.08533471822738647,\n",
    " 0.27191051840782166,\n",
    " 0.16714057326316833,\n",
    " 0.6710963249206543,\n",
    " -0.12512287497520447,\n",
    " -0.22505265474319458,\n",
    " 0.27227240800857544,\n",
    " -0.00902507547289133,\n",
    " 0.22606226801872253,\n",
    " -0.03318323194980621,\n",
    " -0.22192427515983582,\n",
    " -0.25462859869003296,\n",
    " -0.3454451262950897,\n",
    " -0.33679768443107605,\n",
    " 0.14472508430480957,\n",
    " -0.1343115270137787,\n",
    " -0.400614470243454,\n",
    " 0.22343668341636658,\n",
    " -0.04466439411044121,\n",
    " 0.08566736429929733,\n",
    " -0.43528684973716736,\n",
    " -0.41694146394729614,\n",
    " 0.6127879023551941,\n",
    " -0.27406516671180725,\n",
    " 0.06669636070728302,\n",
    " 0.07389774173498154,\n",
    " -0.06984543055295944,\n",
    " 0.2613086998462677,\n",
    " -0.08661563694477081,\n",
    " -0.3146919906139374,\n",
    " 0.121930792927742,\n",
    " -0.529166579246521,\n",
    " -0.3005256652832031,\n",
    " 0.24818851053714752,\n",
    " -0.19884799420833588,\n",
    " 0.09939315915107727,\n",
    " -0.055615585297346115,\n",
    " 0.060651134699583054,\n",
    " -0.11298143118619919,\n",
    " -0.6324812173843384,\n",
    " -0.26648280024528503,\n",
    " -0.13537660241127014,\n",
    " -0.16265150904655457,\n",
    " 0.01313718967139721,\n",
    " -0.18079683184623718,\n",
    " 0.2905445992946625,\n",
    " -0.5046991109848022,\n",
    " 0.04331585019826889,\n",
    " -0.8473497629165649,\n",
    " 0.28425562381744385,\n",
    " -0.0010796631686389446,\n",
    " -0.5155909061431885,\n",
    " 0.22777695953845978,\n",
    " -0.07253670692443848,\n",
    " -0.3838135302066803,\n",
    " -0.3026571273803711,\n",
    " -0.2807310223579407,\n",
    " -0.16621139645576477,\n",
    " -0.08134207129478455,\n",
    " -0.393059641122818,\n",
    " -0.2946634590625763,\n",
    " 0.11706878244876862,\n",
    " -0.849898099899292,\n",
    " -0.26835307478904724,\n",
    " -0.2079690843820572,\n",
    " -0.45156151056289673,\n",
    " -0.22978468239307404,\n",
    " -0.23455725610256195,\n",
    " -0.7798295617103577,\n",
    " -0.42192342877388,\n",
    " -0.6556041836738586,\n",
    " -0.4399099349975586,\n",
    " -0.09812542796134949,\n",
    " -0.16866500675678253,\n",
    " -0.4541800022125244,\n",
    " 0.02175207994878292,\n",
    " -0.36741095781326294,\n",
    " -0.5499461889266968,\n",
    " -0.7415230870246887,\n",
    " -0.7355493307113647]]\n",
    "argmax_indices = [max(range(len(row)), key=row.__getitem__) for row in response]\n",
    "print(argmax_indices)"
   ]
  },
  {
   "cell_type": "code",
   "execution_count": null,
   "metadata": {},
   "outputs": [],
   "source": []
  }
 ],
 "metadata": {
  "kernelspec": {
   "display_name": "awsmle_py310",
   "language": "python",
   "name": "python3"
  },
  "language_info": {
   "codemirror_mode": {
    "name": "ipython",
    "version": 3
   },
   "file_extension": ".py",
   "mimetype": "text/x-python",
   "name": "python",
   "nbconvert_exporter": "python",
   "pygments_lexer": "ipython3",
   "version": "3.10.15"
  }
 },
 "nbformat": 4,
 "nbformat_minor": 2
}
