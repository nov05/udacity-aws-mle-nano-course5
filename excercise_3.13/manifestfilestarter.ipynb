{
 "cells": [
  {
   "cell_type": "markdown",
   "metadata": {},
   "source": [
    "* changed by nov05 on 2024-12-09  \n",
    "* local conda env `awsmle_py310`  \n",
    "* Udacity AWS MLE Course 5 "
   ]
  },
  {
   "cell_type": "code",
   "execution_count": null,
   "metadata": {},
   "outputs": [],
   "source": [
    "!notepad C:\\Users\\guido\\.aws\\credentials"
   ]
  },
  {
   "cell_type": "code",
   "execution_count": 1,
   "metadata": {},
   "outputs": [
    {
     "data": {
      "text/plain": [
       "'d:\\\\github\\\\udacity-aws-mle-nano-course5\\\\excercise_3.13'"
      ]
     },
     "execution_count": 1,
     "metadata": {},
     "output_type": "execute_result"
    }
   ],
   "source": [
    "%pwd"
   ]
  },
  {
   "cell_type": "code",
   "execution_count": 2,
   "metadata": {},
   "outputs": [
    {
     "name": "stderr",
     "output_type": "stream",
     "text": [
      "d:\\Users\\guido\\miniconda3\\envs\\awsmle_py310\\lib\\site-packages\\pydantic\\_internal\\_fields.py:192: UserWarning: Field name \"json\" in \"MonitoringDatasetFormat\" shadows an attribute in parent \"Base\"\n",
      "  warnings.warn(\n"
     ]
    },
    {
     "data": {
      "text/html": [
       "<pre style=\"white-space:pre;overflow-x:auto;line-height:normal;font-family:Menlo,'DejaVu Sans Mono',consolas,'Courier New',monospace\"><span style=\"color: #7fbfbf; text-decoration-color: #7fbfbf\">[12/09/24 12:12:21] </span><span style=\"color: #0069ff; text-decoration-color: #0069ff; font-weight: bold\">INFO    </span> Found credentials in shared credentials file: ~<span style=\"color: #e100e1; text-decoration-color: #e100e1\">/.aws/credentials</span>   <a href=\"file://d:\\Users\\guido\\miniconda3\\envs\\awsmle_py310\\lib\\site-packages\\botocore\\credentials.py\" target=\"_blank\"><span style=\"color: #7f7f7f; text-decoration-color: #7f7f7f\">credentials.py</span></a><span style=\"color: #7f7f7f; text-decoration-color: #7f7f7f\">:</span><a href=\"file://d:\\Users\\guido\\miniconda3\\envs\\awsmle_py310\\lib\\site-packages\\botocore\\credentials.py#1278\" target=\"_blank\"><span style=\"color: #7f7f7f; text-decoration-color: #7f7f7f\">1278</span></a>\n",
       "</pre>\n"
      ],
      "text/plain": [
       "\u001b[2;36m[12/09/24 12:12:21]\u001b[0m\u001b[2;36m \u001b[0m\u001b[1;38;2;0;105;255mINFO    \u001b[0m Found credentials in shared credentials file: ~\u001b[38;2;225;0;225m/.aws/\u001b[0m\u001b[38;2;225;0;225mcredentials\u001b[0m   \u001b]8;id=289176;file://d:\\Users\\guido\\miniconda3\\envs\\awsmle_py310\\lib\\site-packages\\botocore\\credentials.py\u001b\\\u001b[2mcredentials.py\u001b[0m\u001b]8;;\u001b\\\u001b[2m:\u001b[0m\u001b]8;id=468584;file://d:\\Users\\guido\\miniconda3\\envs\\awsmle_py310\\lib\\site-packages\\botocore\\credentials.py#1278\u001b\\\u001b[2m1278\u001b[0m\u001b]8;;\u001b\\\n"
      ]
     },
     "metadata": {},
     "output_type": "display_data"
    },
    {
     "name": "stdout",
     "output_type": "stream",
     "text": [
      "sagemaker.config INFO - Not applying SDK defaults from location: C:\\ProgramData\\sagemaker\\sagemaker\\config.yaml\n",
      "sagemaker.config INFO - Not applying SDK defaults from location: C:\\Users\\guido\\AppData\\Local\\sagemaker\\sagemaker\\config.yaml\n"
     ]
    },
    {
     "data": {
      "text/html": [
       "<pre style=\"white-space:pre;overflow-x:auto;line-height:normal;font-family:Menlo,'DejaVu Sans Mono',consolas,'Courier New',monospace\"><span style=\"color: #7fbfbf; text-decoration-color: #7fbfbf\">[12/09/24 12:12:22] </span><span style=\"color: #0069ff; text-decoration-color: #0069ff; font-weight: bold\">INFO    </span> Found credentials in shared credentials file: ~<span style=\"color: #e100e1; text-decoration-color: #e100e1\">/.aws/credentials</span>   <a href=\"file://d:\\Users\\guido\\miniconda3\\envs\\awsmle_py310\\lib\\site-packages\\botocore\\credentials.py\" target=\"_blank\"><span style=\"color: #7f7f7f; text-decoration-color: #7f7f7f\">credentials.py</span></a><span style=\"color: #7f7f7f; text-decoration-color: #7f7f7f\">:</span><a href=\"file://d:\\Users\\guido\\miniconda3\\envs\\awsmle_py310\\lib\\site-packages\\botocore\\credentials.py#1278\" target=\"_blank\"><span style=\"color: #7f7f7f; text-decoration-color: #7f7f7f\">1278</span></a>\n",
       "</pre>\n"
      ],
      "text/plain": [
       "\u001b[2;36m[12/09/24 12:12:22]\u001b[0m\u001b[2;36m \u001b[0m\u001b[1;38;2;0;105;255mINFO    \u001b[0m Found credentials in shared credentials file: ~\u001b[38;2;225;0;225m/.aws/\u001b[0m\u001b[38;2;225;0;225mcredentials\u001b[0m   \u001b]8;id=10091;file://d:\\Users\\guido\\miniconda3\\envs\\awsmle_py310\\lib\\site-packages\\botocore\\credentials.py\u001b\\\u001b[2mcredentials.py\u001b[0m\u001b]8;;\u001b\\\u001b[2m:\u001b[0m\u001b]8;id=159879;file://d:\\Users\\guido\\miniconda3\\envs\\awsmle_py310\\lib\\site-packages\\botocore\\credentials.py#1278\u001b\\\u001b[2m1278\u001b[0m\u001b]8;;\u001b\\\n"
      ]
     },
     "metadata": {},
     "output_type": "display_data"
    },
    {
     "data": {
      "text/html": [
       "<pre style=\"white-space:pre;overflow-x:auto;line-height:normal;font-family:Menlo,'DejaVu Sans Mono',consolas,'Courier New',monospace\"><span style=\"color: #7fbfbf; text-decoration-color: #7fbfbf\">[12/09/24 12:12:23] </span><span style=\"color: #d7af00; text-decoration-color: #d7af00; font-weight: bold\">WARNING </span> Couldn't call <span style=\"color: #008700; text-decoration-color: #008700\">'get_role'</span> to get Role ARN from role name voclabs to get <a href=\"file://d:\\Users\\guido\\miniconda3\\envs\\awsmle_py310\\lib\\site-packages\\sagemaker\\session.py\" target=\"_blank\"><span style=\"color: #7f7f7f; text-decoration-color: #7f7f7f\">session.py</span></a><span style=\"color: #7f7f7f; text-decoration-color: #7f7f7f\">:</span><a href=\"file://d:\\Users\\guido\\miniconda3\\envs\\awsmle_py310\\lib\\site-packages\\sagemaker\\session.py#5902\" target=\"_blank\"><span style=\"color: #7f7f7f; text-decoration-color: #7f7f7f\">5902</span></a>\n",
       "<span style=\"color: #7fbfbf; text-decoration-color: #7fbfbf\">                    </span>         Role path.                                                             <span style=\"color: #7f7f7f; text-decoration-color: #7f7f7f\">               </span>\n",
       "</pre>\n"
      ],
      "text/plain": [
       "\u001b[2;36m[12/09/24 12:12:23]\u001b[0m\u001b[2;36m \u001b[0m\u001b[1;38;2;215;175;0mWARNING \u001b[0m Couldn't call \u001b[38;2;0;135;0m'get_role'\u001b[0m to get Role ARN from role name voclabs to get \u001b]8;id=99293;file://d:\\Users\\guido\\miniconda3\\envs\\awsmle_py310\\lib\\site-packages\\sagemaker\\session.py\u001b\\\u001b[2msession.py\u001b[0m\u001b]8;;\u001b\\\u001b[2m:\u001b[0m\u001b]8;id=340329;file://d:\\Users\\guido\\miniconda3\\envs\\awsmle_py310\\lib\\site-packages\\sagemaker\\session.py#5902\u001b\\\u001b[2m5902\u001b[0m\u001b]8;;\u001b\\\n",
       "\u001b[2;36m                    \u001b[0m         Role path.                                                             \u001b[2m               \u001b[0m\n"
      ]
     },
     "metadata": {},
     "output_type": "display_data"
    },
    {
     "name": "stdout",
     "output_type": "stream",
     "text": [
      "Role ARN (voclabs): arn:aws:iam::026211625715:role/voclabs\n"
     ]
    },
    {
     "data": {
      "text/html": [
       "<pre style=\"white-space:pre;overflow-x:auto;line-height:normal;font-family:Menlo,'DejaVu Sans Mono',consolas,'Courier New',monospace\"><span style=\"color: #7fbfbf; text-decoration-color: #7fbfbf\">                    </span><span style=\"color: #0069ff; text-decoration-color: #0069ff; font-weight: bold\">INFO    </span> Found credentials in shared credentials file: ~<span style=\"color: #e100e1; text-decoration-color: #e100e1\">/.aws/credentials</span>   <a href=\"file://d:\\Users\\guido\\miniconda3\\envs\\awsmle_py310\\lib\\site-packages\\botocore\\credentials.py\" target=\"_blank\"><span style=\"color: #7f7f7f; text-decoration-color: #7f7f7f\">credentials.py</span></a><span style=\"color: #7f7f7f; text-decoration-color: #7f7f7f\">:</span><a href=\"file://d:\\Users\\guido\\miniconda3\\envs\\awsmle_py310\\lib\\site-packages\\botocore\\credentials.py#1278\" target=\"_blank\"><span style=\"color: #7f7f7f; text-decoration-color: #7f7f7f\">1278</span></a>\n",
       "</pre>\n"
      ],
      "text/plain": [
       "\u001b[2;36m                   \u001b[0m\u001b[2;36m \u001b[0m\u001b[1;38;2;0;105;255mINFO    \u001b[0m Found credentials in shared credentials file: ~\u001b[38;2;225;0;225m/.aws/\u001b[0m\u001b[38;2;225;0;225mcredentials\u001b[0m   \u001b]8;id=390225;file://d:\\Users\\guido\\miniconda3\\envs\\awsmle_py310\\lib\\site-packages\\botocore\\credentials.py\u001b\\\u001b[2mcredentials.py\u001b[0m\u001b]8;;\u001b\\\u001b[2m:\u001b[0m\u001b]8;id=415494;file://d:\\Users\\guido\\miniconda3\\envs\\awsmle_py310\\lib\\site-packages\\botocore\\credentials.py#1278\u001b\\\u001b[2m1278\u001b[0m\u001b]8;;\u001b\\\n"
      ]
     },
     "metadata": {},
     "output_type": "display_data"
    },
    {
     "name": "stdout",
     "output_type": "stream",
     "text": [
      "AWS Region: us-east-1\n",
      "Default Bucket: sagemaker-us-east-1-026211625715\n",
      "Role Arn (SageMaker): arn:aws:iam::026211625715:role/service-role/AmazonSageMaker-ExecutionRole-20241209T041445\n"
     ]
    }
   ],
   "source": [
    "# Define IAM role\n",
    "## reset the session after updating credentials\n",
    "import boto3 # type: ignore\n",
    "boto3.DEFAULT_SESSION = None\n",
    "\n",
    "import sagemaker # type: ignore\n",
    "from sagemaker import get_execution_role # type: ignore\n",
    "role_arn = get_execution_role()  ## get role ARN\n",
    "if 'AmazonSageMaker-ExecutionRole' not in role_arn:\n",
    "    print(f\"Role ARN (voclabs): {role_arn}\")  ## arn:aws:iam::026211625715:role/voclabs\n",
    "    ## your own role here\n",
    "    role_arn = \"arn:aws:iam::026211625715:role/service-role/AmazonSageMaker-ExecutionRole-20241209T041445\"\n",
    "session = sagemaker.Session()\n",
    "region = session.boto_region_name\n",
    "bucket = session.default_bucket()\n",
    "print(\"AWS Region: {}\".format(region))\n",
    "print(\"Default Bucket: {}\".format(bucket))\n",
    "print(\"Role Arn (SageMaker): {}\".format(role_arn))"
   ]
  },
  {
   "cell_type": "markdown",
   "metadata": {},
   "source": [
    "## Amazon Lookout for Vision Lab\n",
    "\n",
    "To help you learn about creating a model, Amazon Lookout for Vision provides example images of circuit boards (circuit_board) that you can use. These images are taken from https://docs.aws.amazon.com/lookout-for-vision/latest/developer-guide/su-prepare-example-images.html.\n",
    "\n",
    "### Environmental variables\n",
    "\n",
    "In a very first step we want to define the two global variables needed for this notebook:\n",
    "\n",
    "- bucket: the S3 bucket that you will create and then use as your source for Amazon Lookout for Vision\n",
    "    - Note: Please read the comments carefully. Depending on your region you need to uncomment the correct command\n",
    "- project: the project name you want to use in Amazon Lookout for Vision"
   ]
  },
  {
   "cell_type": "code",
   "execution_count": 3,
   "metadata": {},
   "outputs": [
    {
     "data": {
      "text/html": [
       "<pre style=\"white-space:pre;overflow-x:auto;line-height:normal;font-family:Menlo,'DejaVu Sans Mono',consolas,'Courier New',monospace\"><span style=\"color: #7fbfbf; text-decoration-color: #7fbfbf\">[12/09/24 13:06:18] </span><span style=\"color: #0069ff; text-decoration-color: #0069ff; font-weight: bold\">INFO    </span> Found credentials in shared credentials file: ~<span style=\"color: #e100e1; text-decoration-color: #e100e1\">/.aws/credentials</span>   <a href=\"file://d:\\Users\\guido\\miniconda3\\envs\\awsmle_py310\\lib\\site-packages\\botocore\\credentials.py\" target=\"_blank\"><span style=\"color: #7f7f7f; text-decoration-color: #7f7f7f\">credentials.py</span></a><span style=\"color: #7f7f7f; text-decoration-color: #7f7f7f\">:</span><a href=\"file://d:\\Users\\guido\\miniconda3\\envs\\awsmle_py310\\lib\\site-packages\\botocore\\credentials.py#1278\" target=\"_blank\"><span style=\"color: #7f7f7f; text-decoration-color: #7f7f7f\">1278</span></a>\n",
       "</pre>\n"
      ],
      "text/plain": [
       "\u001b[2;36m[12/09/24 13:06:18]\u001b[0m\u001b[2;36m \u001b[0m\u001b[1;38;2;0;105;255mINFO    \u001b[0m Found credentials in shared credentials file: ~\u001b[38;2;225;0;225m/.aws/\u001b[0m\u001b[38;2;225;0;225mcredentials\u001b[0m   \u001b]8;id=935600;file://d:\\Users\\guido\\miniconda3\\envs\\awsmle_py310\\lib\\site-packages\\botocore\\credentials.py\u001b\\\u001b[2mcredentials.py\u001b[0m\u001b]8;;\u001b\\\u001b[2m:\u001b[0m\u001b]8;id=636355;file://d:\\Users\\guido\\miniconda3\\envs\\awsmle_py310\\lib\\site-packages\\botocore\\credentials.py#1278\u001b\\\u001b[2m1278\u001b[0m\u001b]8;;\u001b\\\n"
      ]
     },
     "metadata": {},
     "output_type": "display_data"
    },
    {
     "name": "stdout",
     "output_type": "stream",
     "text": [
      "<botocore.client.SageMaker object at 0x0000022B05CFFFA0>\n"
     ]
    }
   ],
   "source": [
    "import os\n",
    "import boto3\n",
    "\n",
    "bucket = \"vision20210905\"\n",
    "project = \"circuitproject\"\n",
    "os.environ[\"BUCKET\"] = bucket\n",
    "os.environ[\"REGION\"] = boto3.session.Session().region_name\n",
    "\n",
    "#client = boto3.client('lookoutvision')\n",
    "client=boto3.Session().client('sagemaker')\n",
    "print(client)"
   ]
  },
  {
   "cell_type": "markdown",
   "metadata": {},
   "source": [
    "You can check your region here with:"
   ]
  },
  {
   "cell_type": "code",
   "execution_count": 4,
   "metadata": {},
   "outputs": [
    {
     "name": "stdout",
     "output_type": "stream",
     "text": [
      "us-east-1\n"
     ]
    }
   ],
   "source": [
    "# Check your region:\n",
    "print(boto3.session.Session().region_name)"
   ]
  },
  {
   "cell_type": "markdown",
   "metadata": {},
   "source": [
    "Depending on your region follow the instructions of the next cell:"
   ]
  },
  {
   "cell_type": "markdown",
   "metadata": {},
   "source": [
    "## Image Preparation and EDA\n",
    "\n",
    "In Amazon Lookout for Vision - see also\n",
    "- https://aws.amazon.com/lookout-for-vision/ and\n",
    "- 👉 https://aws.amazon.com/blogs/aws/amazon-lookout-for-vision-new-machine-learning-service-that-simplifies-defect-detection-for-manufacturing/\n",
    "if you already have pre-labeled images available, as it is the case in this example, you can already establish a folder structure that lets you define training and validation. Further, images are labeled for Amazon Lookout via the corresponding folder (normal=good, anomaly=bad).\n",
    "\n",
    "We will import the sample images provided by **AWS Lookout of Vision**. If you're importing your own images, you will prepare them at this stage."
   ]
  },
  {
   "cell_type": "markdown",
   "metadata": {},
   "source": [
    "### **Generate the *manifest* files**\n",
    "\n",
    "You might be familiar with the manifest files if you ever used Amazon SageMaker Ground Truth. If you are not don't worry about that section too much.\n",
    "\n",
    "If you are still interested in what's happening, you can continue reading:\n",
    "\n",
    "Each dataset training/ as well as validation/ needs a manifest file. This file is used by Amazon Lookout for Vision to determine where to look for the images. The manifest follows a fixed structure. Most importantly are the keys (it's JSON formatted) *source-ref* this is the location for each file, *auto-label* the value for each label (0=bad, 1=good), *folder* which indicates whether Amazon Lookout is using training or validation and *creation-date* as this let's you know when an image was put in place. All other fields are pre-set for you.\n",
    "\n",
    "Each manifest file itself contains N JSON objects, where N is the number of images that are used in this dataset."
   ]
  },
  {
   "cell_type": "code",
   "execution_count": null,
   "metadata": {},
   "outputs": [
    {
     "name": "stdout",
     "output_type": "stream",
     "text": [
      "1\n",
      "2\n",
      "3\n",
      "4\n",
      "5\n",
      "6\n",
      "7\n",
      "8\n",
      "9\n",
      "10\n",
      "11\n",
      "12\n",
      "13\n",
      "14\n",
      "15\n",
      "16\n",
      "17\n",
      "18\n",
      "19\n",
      "20\n",
      "21\n",
      "1\n",
      "2\n",
      "3\n",
      "4\n",
      "5\n",
      "6\n",
      "7\n",
      "8\n",
      "9\n",
      "10\n",
      "11\n",
      "12\n",
      "13\n",
      "14\n",
      "15\n",
      "16\n",
      "17\n",
      "18\n",
      "19\n",
      "20\n",
      "1\n",
      "2\n",
      "3\n",
      "4\n",
      "5\n",
      "6\n",
      "7\n",
      "8\n",
      "9\n",
      "10\n",
      "11\n",
      "12\n",
      "13\n",
      "14\n",
      "15\n",
      "16\n",
      "17\n",
      "18\n",
      "1\n",
      "2\n",
      "3\n",
      "4\n",
      "5\n",
      "6\n",
      "7\n",
      "8\n",
      "9\n",
      "10\n",
      "11\n",
      "12\n",
      "13\n",
      "14\n",
      "15\n",
      "16\n",
      "17\n",
      "18\n",
      "19\n",
      "20\n"
     ]
    }
   ],
   "source": [
    "# Datetime for datetime generation and json to dump the JSON object\n",
    "# to the corresponding files:\n",
    "from datetime import datetime\n",
    "import json\n",
    "\n",
    "# Current date and time in manifest file format:\n",
    "dttm = datetime.now().strftime(\"%Y-%m-%dT%H:%M:%S.%f\")\n",
    "\n",
    "# The two datasets used: train and test\n",
    "datasets = [\"train\", \"test\"]\n",
    "\n",
    "# For each dataset...\n",
    "for ds in datasets:\n",
    "    # ...list the folder available (normal or anomaly).\n",
    "    #print(ds)\n",
    "    folders = os.listdir(\"./circuitboard/{}\".format(ds))\n",
    "    # Then open the manifest file for this dataset...\n",
    "    with open(\"{}.manifest\".format(ds), \"w\") as f:\n",
    "        for folder in folders:\n",
    "            filecount=0\n",
    "            #print(folder)\n",
    "            # ...and iterate through both folders by first listing\n",
    "            # the corresponding files and setting the appropriate label\n",
    "            # (as noted above: 1 = good, 0 = bad):\n",
    "            files = os.listdir(\"./circuitboard/{}/{}\".format(ds, folder))\n",
    "            label = 1\n",
    "            if folder == \"anomaly\":\n",
    "                label = 0\n",
    "            # For each file in the folder...\n",
    "            for file in files:\n",
    "                filecount+=1\n",
    "                print(filecount, end=\" \")\n",
    "                # Uncomment the following two lines to use the entire dataset\n",
    "                if filecount>20:\n",
    "                    break\n",
    "                # ...generate a manifest JSON object and save it to the manifest\n",
    "                # file. Don't forget to add '/n' to generate a new line:\n",
    "                manifest = {\n",
    "                  \"source-ref\": \"s3://{}/{}/{}/{}/{}\".format(bucket,project, ds, folder, file),\n",
    "                  \"auto-label\": label,\n",
    "                  \"auto-label-metadata\": {\n",
    "                    \"confidence\": 1,\n",
    "                    \"job-name\": \"labeling-job/auto-label\",\n",
    "                    \"class-name\": folder,\n",
    "                    \"human-annotated\": \"yes\",\n",
    "                    \"creation-date\": dttm,\n",
    "                    \"type\": \"groundtruth/image-classification\"\n",
    "                  }\n",
    "                }\n",
    "                f.write(json.dumps(manifest)+\"\\n\")"
   ]
  },
  {
   "cell_type": "markdown",
   "metadata": {},
   "source": [
    "### Upload manifest files and images to S3\n",
    "\n",
    "Now it's time to upload all the images and the manifest files:"
   ]
  },
  {
   "cell_type": "code",
   "execution_count": 4,
   "metadata": {},
   "outputs": [
    {
     "name": "stdout",
     "output_type": "stream",
     "text": [
      "upload: ./train.manifest to s3://vision20210905/circuitproject/train.manifest\n",
      "upload: ./test.manifest to s3://vision20210905/circuitproject/test.manifest\n"
     ]
    }
   ],
   "source": [
    "# Upload manifest files to S3 bucket:\n",
    "!aws s3 cp train.manifest s3://{bucket}/{project}/train.manifest\n",
    "!aws s3 cp test.manifest s3://{bucket}/{project}/test.manifest"
   ]
  },
  {
   "cell_type": "code",
   "execution_count": 5,
   "metadata": {
    "scrolled": true
   },
   "outputs": [
    {
     "name": "stdout",
     "output_type": "stream",
     "text": [
      "upload: circuitboard/train/normal/train-normal_20.jpg to s3://vision20210905/circuitproject/train/normal/train-normal_20.jpg\n",
      "upload: circuitboard/train/normal/train-normal_13.jpg to s3://vision20210905/circuitproject/train/normal/train-normal_13.jpg\n",
      "upload: circuitboard/train/normal/train-normal_14.jpg to s3://vision20210905/circuitproject/train/normal/train-normal_14.jpg\n",
      "upload: circuitboard/train/normal/train-normal_3.jpg to s3://vision20210905/circuitproject/train/normal/train-normal_3.jpg\n",
      "upload: circuitboard/train/normal/train-normal_12.jpg to s3://vision20210905/circuitproject/train/normal/train-normal_12.jpg\n",
      "upload: circuitboard/train/normal/train-normal_10.jpg to s3://vision20210905/circuitproject/train/normal/train-normal_10.jpg\n",
      "upload: circuitboard/train/normal/train-normal_19.jpg to s3://vision20210905/circuitproject/train/normal/train-normal_19.jpg\n",
      "upload: circuitboard/train/normal/train-normal_1.jpg to s3://vision20210905/circuitproject/train/normal/train-normal_1.jpg\n",
      "upload: circuitboard/train/normal/train-normal_11.jpg to s3://vision20210905/circuitproject/train/normal/train-normal_11.jpg\n",
      "upload: circuitboard/train/normal/train-normal_2.jpg to s3://vision20210905/circuitproject/train/normal/train-normal_2.jpg\n",
      "upload: circuitboard/train/normal/train-normal_4.jpg to s3://vision20210905/circuitproject/train/normal/train-normal_4.jpg\n",
      "upload: circuitboard/train/normal/train-normal_6.jpg to s3://vision20210905/circuitproject/train/normal/train-normal_6.jpg\n",
      "upload: circuitboard/train/normal/train-normal_16.jpg to s3://vision20210905/circuitproject/train/normal/train-normal_16.jpg\n",
      "upload: circuitboard/train/normal/train-normal_7.jpg to s3://vision20210905/circuitproject/train/normal/train-normal_7.jpg\n",
      "upload: circuitboard/train/normal/train-normal_8.jpg to s3://vision20210905/circuitproject/train/normal/train-normal_8.jpg\n",
      "upload: circuitboard/train/normal/train-normal_17.jpg to s3://vision20210905/circuitproject/train/normal/train-normal_17.jpg\n",
      "upload: circuitboard/train/normal/train-normal_9.jpg to s3://vision20210905/circuitproject/train/normal/train-normal_9.jpg\n",
      "upload: circuitboard/train/normal/train-normal_5.jpg to s3://vision20210905/circuitproject/train/normal/train-normal_5.jpg\n",
      "upload: circuitboard/train/normal/train-normal_18.jpg to s3://vision20210905/circuitproject/train/normal/train-normal_18.jpg\n",
      "upload: circuitboard/train/normal/train-normal_15.jpg to s3://vision20210905/circuitproject/train/normal/train-normal_15.jpg\n",
      "upload: circuitboard/train/anomaly/train-anomaly_13.jpg to s3://vision20210905/circuitproject/train/anomaly/train-anomaly_13.jpg\n",
      "upload: circuitboard/train/anomaly/train-anomaly_1.jpg to s3://vision20210905/circuitproject/train/anomaly/train-anomaly_1.jpg\n",
      "upload: circuitboard/train/anomaly/train-anomaly_12.jpg to s3://vision20210905/circuitproject/train/anomaly/train-anomaly_12.jpg\n",
      "upload: circuitboard/train/anomaly/train-anomaly_10.jpg to s3://vision20210905/circuitproject/train/anomaly/train-anomaly_10.jpg\n",
      "upload: circuitboard/train/anomaly/train-anomaly_14.jpg to s3://vision20210905/circuitproject/train/anomaly/train-anomaly_14.jpg\n",
      "upload: circuitboard/train/anomaly/train-anomaly_3.jpg to s3://vision20210905/circuitproject/train/anomaly/train-anomaly_3.jpg\n",
      "upload: circuitboard/train/anomaly/train-anomaly_16.jpg to s3://vision20210905/circuitproject/train/anomaly/train-anomaly_16.jpg\n",
      "upload: circuitboard/train/anomaly/train-anomaly_17.jpg to s3://vision20210905/circuitproject/train/anomaly/train-anomaly_17.jpg\n",
      "upload: circuitboard/train/anomaly/train-anomaly_11.jpg to s3://vision20210905/circuitproject/train/anomaly/train-anomaly_11.jpg\n",
      "upload: circuitboard/train/anomaly/train-anomaly_15.jpg to s3://vision20210905/circuitproject/train/anomaly/train-anomaly_15.jpg\n",
      "upload: circuitboard/train/anomaly/train-anomaly_2.jpg to s3://vision20210905/circuitproject/train/anomaly/train-anomaly_2.jpg\n",
      "upload: circuitboard/train/anomaly/train-anomaly_18.jpg to s3://vision20210905/circuitproject/train/anomaly/train-anomaly_18.jpg\n",
      "upload: circuitboard/train/anomaly/train-anomaly_20.jpg to s3://vision20210905/circuitproject/train/anomaly/train-anomaly_20.jpg\n",
      "upload: circuitboard/train/anomaly/train-anomaly_9.jpg to s3://vision20210905/circuitproject/train/anomaly/train-anomaly_9.jpg\n",
      "upload: circuitboard/train/anomaly/train-normal_1.jpg to s3://vision20210905/circuitproject/train/anomaly/train-normal_1.jpg\n",
      "upload: circuitboard/train/anomaly/train-anomaly_8.jpg to s3://vision20210905/circuitproject/train/anomaly/train-anomaly_8.jpg\n",
      "upload: circuitboard/train/anomaly/train-anomaly_7.jpg to s3://vision20210905/circuitproject/train/anomaly/train-anomaly_7.jpg\n",
      "upload: circuitboard/train/anomaly/train-anomaly_5.jpg to s3://vision20210905/circuitproject/train/anomaly/train-anomaly_5.jpg\n",
      "upload: circuitboard/train/anomaly/train-normal_10.jpg to s3://vision20210905/circuitproject/train/anomaly/train-normal_10.jpg\n",
      "upload: circuitboard/train/anomaly/train-anomaly_19.jpg to s3://vision20210905/circuitproject/train/anomaly/train-anomaly_19.jpg\n",
      "upload: circuitboard/train/anomaly/train-anomaly_6.jpg to s3://vision20210905/circuitproject/train/anomaly/train-anomaly_6.jpg\n",
      "upload: circuitboard/train/anomaly/train-anomaly_4.jpg to s3://vision20210905/circuitproject/train/anomaly/train-anomaly_4.jpg\n",
      "upload: circuitboard/train/anomaly/train-normal_11.jpg to s3://vision20210905/circuitproject/train/anomaly/train-normal_11.jpg\n",
      "upload: circuitboard/test/normal/test-normal_10.jpg to s3://vision20210905/circuitproject/test/normal/test-normal_10.jpg\n",
      "upload: circuitboard/test/normal/test-normal_14.jpg to s3://vision20210905/circuitproject/test/normal/test-normal_14.jpg\n",
      "upload: circuitboard/test/normal/test-normal_17.jpg to s3://vision20210905/circuitproject/test/normal/test-normal_17.jpg\n",
      "upload: circuitboard/test/normal/test-normal_12.jpg to s3://vision20210905/circuitproject/test/normal/test-normal_12.jpg\n",
      "upload: circuitboard/test/normal/test-normal_11.jpg to s3://vision20210905/circuitproject/test/normal/test-normal_11.jpg\n",
      "upload: circuitboard/test/normal/test-normal_1.jpg to s3://vision20210905/circuitproject/test/normal/test-normal_1.jpg\n",
      "upload: circuitboard/test/normal/test-normal_3.jpg to s3://vision20210905/circuitproject/test/normal/test-normal_3.jpg\n",
      "upload: circuitboard/test/normal/test-normal_13.jpg to s3://vision20210905/circuitproject/test/normal/test-normal_13.jpg\n",
      "upload: circuitboard/test/normal/test-normal_4.jpg to s3://vision20210905/circuitproject/test/normal/test-normal_4.jpg\n",
      "upload: circuitboard/test/normal/test-normal_19.jpg to s3://vision20210905/circuitproject/test/normal/test-normal_19.jpg\n",
      "upload: circuitboard/test/normal/test-normal_6.jpg to s3://vision20210905/circuitproject/test/normal/test-normal_6.jpg\n",
      "upload: circuitboard/test/normal/test-normal_7.jpg to s3://vision20210905/circuitproject/test/normal/test-normal_7.jpg\n",
      "upload: circuitboard/test/normal/test-normal_2.jpg to s3://vision20210905/circuitproject/test/normal/test-normal_2.jpg\n",
      "upload: circuitboard/test/normal/test-normal_16.jpg to s3://vision20210905/circuitproject/test/normal/test-normal_16.jpg\n",
      "upload: circuitboard/test/normal/test-normal_8.jpg to s3://vision20210905/circuitproject/test/normal/test-normal_8.jpg\n",
      "upload: circuitboard/test/normal/test-normal_20.jpg to s3://vision20210905/circuitproject/test/normal/test-normal_20.jpg\n",
      "upload: circuitboard/test/normal/test-normal_15.jpg to s3://vision20210905/circuitproject/test/normal/test-normal_15.jpg\n",
      "upload: circuitboard/test/normal/test-normal_5.jpg to s3://vision20210905/circuitproject/test/normal/test-normal_5.jpg\n",
      "upload: circuitboard/test/normal/test-normal_18.jpg to s3://vision20210905/circuitproject/test/normal/test-normal_18.jpg\n",
      "upload: circuitboard/test/normal/test-normal_9.jpg to s3://vision20210905/circuitproject/test/normal/test-normal_9.jpg\n",
      "upload: circuitboard/test/anomaly/test-anomaly_20.jpg to s3://vision20210905/circuitproject/test/anomaly/test-anomaly_20.jpg\n",
      "upload: circuitboard/test/anomaly/test-anomaly_12.jpg to s3://vision20210905/circuitproject/test/anomaly/test-anomaly_12.jpg\n",
      "upload: circuitboard/test/anomaly/test-anomaly_10.jpg to s3://vision20210905/circuitproject/test/anomaly/test-anomaly_10.jpg\n",
      "upload: circuitboard/test/anomaly/test-anomaly_11.jpg to s3://vision20210905/circuitproject/test/anomaly/test-anomaly_11.jpg\n",
      "upload: circuitboard/test/anomaly/test-anomaly_6.jpg to s3://vision20210905/circuitproject/test/anomaly/test-anomaly_6.jpg\n",
      "upload: circuitboard/test/anomaly/test-anomaly_4.jpg to s3://vision20210905/circuitproject/test/anomaly/test-anomaly_4.jpg\n",
      "upload: circuitboard/test/anomaly/test-anomaly_13.jpg to s3://vision20210905/circuitproject/test/anomaly/test-anomaly_13.jpg\n",
      "upload: circuitboard/test/anomaly/test-anomaly_1.jpg to s3://vision20210905/circuitproject/test/anomaly/test-anomaly_1.jpg\n",
      "upload: circuitboard/test/anomaly/test-anomaly_14.jpg to s3://vision20210905/circuitproject/test/anomaly/test-anomaly_14.jpg\n",
      "upload: circuitboard/test/anomaly/test-anomaly_5.jpg to s3://vision20210905/circuitproject/test/anomaly/test-anomaly_5.jpg\n",
      "upload: circuitboard/test/anomaly/test-anomaly_7.jpg to s3://vision20210905/circuitproject/test/anomaly/test-anomaly_7.jpg\n",
      "upload: circuitboard/test/anomaly/test-anomaly_15.jpg to s3://vision20210905/circuitproject/test/anomaly/test-anomaly_15.jpg\n",
      "upload: circuitboard/test/anomaly/test-anomaly_9.jpg to s3://vision20210905/circuitproject/test/anomaly/test-anomaly_9.jpg\n",
      "upload: circuitboard/test/anomaly/test-anomaly_8.jpg to s3://vision20210905/circuitproject/test/anomaly/test-anomaly_8.jpg\n",
      "upload: circuitboard/test/anomaly/test-anomaly_17.jpg to s3://vision20210905/circuitproject/test/anomaly/test-anomaly_17.jpg\n",
      "upload: circuitboard/test/anomaly/test-anomaly_19.jpg to s3://vision20210905/circuitproject/test/anomaly/test-anomaly_19.jpg\n",
      "upload: circuitboard/test/anomaly/test-anomaly_16.jpg to s3://vision20210905/circuitproject/test/anomaly/test-anomaly_16.jpg\n",
      "upload: circuitboard/test/anomaly/test-anomaly_18.jpg to s3://vision20210905/circuitproject/test/anomaly/test-anomaly_18.jpg\n"
     ]
    }
   ],
   "source": [
    "# Upload images to S3 bucket:\n",
    "!aws s3 cp circuitboard/train/normal s3://{bucket}/{project}/train/normal --recursive\n",
    "!aws s3 cp circuitboard/train/anomaly s3://{bucket}/{project}/train/anomaly --recursive\n",
    "\n",
    "!aws s3 cp circuitboard/test/normal s3://{bucket}/{project}/test/normal --recursive\n",
    "!aws s3 cp circuitboard/test/anomaly s3://{bucket}/{project}/test/anomaly --recursive"
   ]
  },
  {
   "cell_type": "code",
   "execution_count": null,
   "metadata": {},
   "outputs": [],
   "source": []
  }
 ],
 "metadata": {
  "instance_type": "ml.t3.medium",
  "kernelspec": {
   "display_name": "awsmle_py310",
   "language": "python",
   "name": "python3"
  },
  "language_info": {
   "codemirror_mode": {
    "name": "ipython",
    "version": 3
   },
   "file_extension": ".py",
   "mimetype": "text/x-python",
   "name": "python",
   "nbconvert_exporter": "python",
   "pygments_lexer": "ipython3",
   "version": "3.10.15"
  }
 },
 "nbformat": 4,
 "nbformat_minor": 4
}
