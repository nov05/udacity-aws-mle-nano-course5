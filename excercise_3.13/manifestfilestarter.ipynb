{
 "cells": [
  {
   "cell_type": "markdown",
   "metadata": {},
   "source": [
    "* changed by nov05 on 2024-12-09    \n",
    "* local conda env `awsmle_py310`    \n",
    "* Udacity AWS MLE Course 5   \n",
    "\n",
    "---   \n",
    " \n",
    "* End of support notice: On October 31, 2025, AWS will discontinue support for Amazon Lookout for Vision. After October 31, 2025, you will no longer be able to access the Lookout for Vision console or Lookout for Vision resources. For more information, visit this [blog post](https://aws.amazon.com/blogs/machine-learning/exploring-alternatives-and-seamlessly-migrating-data-from-amazon-lookout-for-vision).   \n",
    "* You can copy the images from the https://github.com/aws-samples/amazon-lookout-for-vision .   \n",
    "* [AWS example datasets](https://docs.aws.amazon.com/lookout-for-vision/latest/developer-guide/example-datasets.html) ([backup](https://www.evernote.com/shard/s139/u/0/sh/20f4cb27-b331-4359-80e3-d59fafb398c3/F2ed7arE4Ee3gTridohRMA5brpn1Ofk82amqbQmgv7knQBv5idPDFQWX0A))     \n",
    "  * copy the dataset images from your computer to your Amazon S3 bucket   \n",
    "    `!aws s3 cp --recursive your-repository-folder/circuitboard s3://your-bucket/circuitboard`   \n",
    "* For this practice, we'll only generate manifest files without uploading them to S3, so all operations will be local.  "
   ]
  },
  {
   "cell_type": "code",
   "execution_count": 3,
   "metadata": {},
   "outputs": [
    {
     "data": {
      "text/plain": [
       "'d:\\\\github\\\\udacity-aws-mle-nano-course5\\\\excercise_3.13'"
      ]
     },
     "execution_count": 3,
     "metadata": {},
     "output_type": "execute_result"
    }
   ],
   "source": [
    "%pwd"
   ]
  },
  {
   "cell_type": "code",
   "execution_count": null,
   "metadata": {},
   "outputs": [],
   "source": [
    "# !notepad C:\\Users\\guido\\.aws\\credentials"
   ]
  },
  {
   "cell_type": "code",
   "execution_count": null,
   "metadata": {},
   "outputs": [],
   "source": [
    "# ## reset the session after updating credentials\n",
    "# import boto3 # type: ignore\n",
    "# boto3.DEFAULT_SESSION = None\n",
    "# ## Define IAM role\n",
    "# import sagemaker # type: ignore\n",
    "# from sagemaker import get_execution_role # type: ignore\n",
    "# role_arn = get_execution_role()  ## get role ARN\n",
    "# if 'AmazonSageMaker-ExecutionRole' not in role_arn:\n",
    "#     print(f\"Role ARN (voclabs): {role_arn}\")  ## arn:aws:iam::026211625715:role/voclabs\n",
    "#     ## your own role here\n",
    "#     role_arn = \"arn:aws:iam::026211625715:role/service-role/AmazonSageMaker-ExecutionRole-20241209T041445\"\n",
    "# session = sagemaker.Session()\n",
    "# region = session.boto_region_name\n",
    "# bucket = session.default_bucket()\n",
    "# print(\"AWS Region: {}\".format(region))\n",
    "# print(\"Default SageMaker Bucket: {}\".format(bucket))\n",
    "# print(\"Role Arn (SageMaker): {}\".format(role_arn))"
   ]
  },
  {
   "cell_type": "markdown",
   "metadata": {},
   "source": [
    "## Amazon Lookout for Vision Lab\n",
    "\n",
    "To help you learn about creating a model, Amazon Lookout for Vision provides example images of circuit boards (circuit_board) that you can use. These images are taken from https://docs.aws.amazon.com/lookout-for-vision/latest/developer-guide/su-prepare-example-images.html.\n",
    "\n",
    "*P.S.     \n",
    "[**Exploring alternatives and seamlessly migrating data from Amazon Lookout for Vision**](https://aws.amazon.com/blogs/machine-learning/exploring-alternatives-and-seamlessly-migrating-data-from-amazon-lookout-for-vision/)    \n",
    "by Tim Westman on 10 OCT 2024, AWS Machine Learning Blog*     \n",
    "\n",
    "### Environmental variables\n",
    "\n",
    "In a very first step we want to define the two global variables needed for this notebook:\n",
    "\n",
    "- bucket: the S3 bucket that you will create and then use as your source for Amazon Lookout for Vision\n",
    "    - Note: Please read the comments carefully. Depending on your region you need to uncomment the correct command\n",
    "- project: the project name you want to use in Amazon Lookout for Vision"
   ]
  },
  {
   "cell_type": "code",
   "execution_count": null,
   "metadata": {},
   "outputs": [],
   "source": [
    "import os\n",
    "# import boto3\n",
    "bucket = \"vision20210905\"  ## where you upload your train/test images  \n",
    "project = \"circuitproject\"\n",
    "os.environ[\"BUCKET\"] = bucket\n",
    "# os.environ[\"REGION\"] = boto3.session.Session().region_name\n",
    "## client = boto3.client('lookoutvision')  ## deprecated\n",
    "# client=boto3.Session().client('sagemaker')\n",
    "# print(client)"
   ]
  },
  {
   "cell_type": "markdown",
   "metadata": {},
   "source": [
    "Depending on your region follow the instructions of the next cell:"
   ]
  },
  {
   "cell_type": "markdown",
   "metadata": {},
   "source": [
    "## Image Preparation and EDA\n",
    "\n",
    "In Amazon Lookout for Vision - see also\n",
    "- https://aws.amazon.com/lookout-for-vision/ and\n",
    "- 👉 https://aws.amazon.com/blogs/aws/amazon-lookout-for-vision-new-machine-learning-service-that-simplifies-defect-detection-for-manufacturing/\n",
    "if you already have pre-labeled images available, as it is the case in this example, you can already establish a folder structure that lets you define training and validation. Further, images are labeled for Amazon Lookout via the corresponding folder (normal=good, anomaly=bad).\n",
    "\n",
    "We will import the sample images provided by **AWS Lookout of Vision**. If you're importing your own images, you will prepare them at this stage."
   ]
  },
  {
   "cell_type": "markdown",
   "metadata": {},
   "source": [
    "### **Generate the *manifest* files**\n",
    "\n",
    "You might be familiar with the manifest files if you ever used Amazon SageMaker Ground Truth. If you are not don't worry about that section too much.\n",
    "\n",
    "If you are still interested in what's happening, you can continue reading:\n",
    "\n",
    "Each dataset training/ as well as validation/ needs a manifest file. This file is used by Amazon Lookout for Vision to determine where to look for the images. The manifest follows a fixed structure. Most importantly are the keys (it's JSON formatted) *source-ref* this is the location for each file, *auto-label* the value for each label (0=bad, 1=good), *folder* which indicates whether Amazon Lookout is using training or validation and *creation-date* as this let's you know when an image was put in place. All other fields are pre-set for you.\n",
    "\n",
    "Each manifest file itself contains N JSON objects, where N is the number of images that are used in this dataset."
   ]
  },
  {
   "cell_type": "code",
   "execution_count": 16,
   "metadata": {},
   "outputs": [
    {
     "name": "stdout",
     "output_type": "stream",
     "text": [
      "------------------------------------------------\n",
      "👉 Processing the \"train\" dataset...\n"
     ]
    },
    {
     "name": "stderr",
     "output_type": "stream",
     "text": [
      "  0%|          | 0/2 [00:00<?, ?it/s]"
     ]
    },
    {
     "name": "stdout",
     "output_type": "stream",
     "text": [
      "    👉 Processing the \"anomaly\" folder...\n"
     ]
    },
    {
     "name": "stderr",
     "output_type": "stream",
     "text": [
      "100%|██████████| 20/20 [00:00<?, ?it/s]\n"
     ]
    },
    {
     "name": "stdout",
     "output_type": "stream",
     "text": [
      "    👉 Processing the \"normal\" folder...\n"
     ]
    },
    {
     "name": "stderr",
     "output_type": "stream",
     "text": [
      "100%|██████████| 20/20 [00:00<?, ?it/s]\n",
      "100%|██████████| 2/2 [00:00<?, ?it/s]\n"
     ]
    },
    {
     "name": "stdout",
     "output_type": "stream",
     "text": [
      "------------------------------------------------\n",
      "👉 Processing the \"test\" dataset...\n"
     ]
    },
    {
     "name": "stderr",
     "output_type": "stream",
     "text": [
      "  0%|          | 0/2 [00:00<?, ?it/s]"
     ]
    },
    {
     "name": "stdout",
     "output_type": "stream",
     "text": [
      "    👉 Processing the \"anomaly\" folder...\n"
     ]
    },
    {
     "name": "stderr",
     "output_type": "stream",
     "text": [
      "100%|██████████| 20/20 [00:00<?, ?it/s]\n"
     ]
    },
    {
     "name": "stdout",
     "output_type": "stream",
     "text": [
      "    👉 Processing the \"normal\" folder...\n"
     ]
    },
    {
     "name": "stderr",
     "output_type": "stream",
     "text": [
      "100%|██████████| 20/20 [00:00<00:00, 1332.60it/s]\n",
      "100%|██████████| 2/2 [00:00<00:00, 125.49it/s]\n"
     ]
    }
   ],
   "source": [
    "# Datetime for datetime generation and json to dump the JSON object\n",
    "# to the corresponding files:\n",
    "from datetime import datetime\n",
    "import json\n",
    "from tqdm import tqdm\n",
    "\n",
    "## Current date and time in manifest file format:\n",
    "date_time = datetime.now().strftime(\"%Y-%m-%dT%H:%M:%S.%f\")\n",
    "## The two datasets used: train and test\n",
    "datasets = [\"train\", \"test\"]\n",
    "## local dataset dir\n",
    "local_base_dir = f\"../data/circuitboard/\" ## ⚠️ set the local dir\n",
    "\n",
    "## For each dataset...\n",
    "for dataset in datasets:\n",
    "    # ...list the folder available (normal or anomaly).\n",
    "    print(\"------------------------------------------------\")\n",
    "    print(f\"👉 Processing the \\\"{dataset}\\\" dataset...\")\n",
    "    folders = os.listdir(f\"{local_base_dir}{dataset}\")  \n",
    "    # Then open the manifest file for this dataset...\n",
    "    with open(\"{}.manifest\".format(dataset), \"w\") as f:\n",
    "        for folder in tqdm(folders):\n",
    "            print(f\"    👉 Processing the \\\"{folder}\\\" folder...\")\n",
    "            # ...and iterate through both folders by first listing\n",
    "            # the corresponding files and setting the appropriate label\n",
    "            # (as noted above: 1 = good, 0 = bad):\n",
    "            files = os.listdir(f\"{local_base_dir}{dataset}/{folder}\") \n",
    "            label = 1 if folder==\"anomaly\" else 0\n",
    "            # For each file in the folder...\n",
    "            for file in tqdm(files):\n",
    "                # ...generate a manifest JSON object and save it to the manifest\n",
    "                # file. Don't forget to add '/n' to generate a new line:\n",
    "                manifest = {\n",
    "                  \"source-ref\": \"s3://{}/{}/{}/{}/{}\".format(bucket, project, dataset, folder, file),  ## ⚠️ set the s3 dir\n",
    "                  \"auto-label\": label,\n",
    "                  \"auto-label-metadata\": {\n",
    "                    \"confidence\": 1,\n",
    "                    \"job-name\": \"labeling-job/auto-label\",\n",
    "                    \"class-name\": folder,\n",
    "                    \"human-annotated\": \"yes\",\n",
    "                    \"creation-date\": date_time,\n",
    "                    \"type\": \"groundtruth/image-classification\"\n",
    "                  }\n",
    "                }\n",
    "                f.write(json.dumps(manifest)+\"\\n\")"
   ]
  },
  {
   "cell_type": "code",
   "execution_count": 15,
   "metadata": {},
   "outputs": [
    {
     "name": "stdout",
     "output_type": "stream",
     "text": [
      "{'auto-label': 1,\n",
      " 'auto-label-metadata': {'class-name': 'anomaly',\n",
      "                         'confidence': 1,\n",
      "                         'creation-date': '2024-12-10T17:06:39.779867',\n",
      "                         'human-annotated': 'yes',\n",
      "                         'job-name': 'labeling-job/auto-label',\n",
      "                         'type': 'groundtruth/image-classification'},\n",
      " 'source-ref': 's3://vision20210905/circuitproject/train/anomaly/train-anomaly_1.jpg'}\n"
     ]
    }
   ],
   "source": [
    "## read the first line of a manifest file\n",
    "from pprint import pprint\n",
    "with open('train.manifest', 'r') as file:\n",
    "    first_line = next(file)\n",
    "pprint(json.loads(first_line))"
   ]
  },
  {
   "cell_type": "markdown",
   "metadata": {},
   "source": [
    "---  \n",
    "\n",
    "⚠️ Skip the following code; we just practice generating manifest files.\n",
    "\n",
    "---  \n",
    "\n",
    "\n",
    "### Upload manifest files and images to S3\n",
    "\n",
    "Now it's time to upload all the images and the manifest files:"
   ]
  },
  {
   "cell_type": "code",
   "execution_count": null,
   "metadata": {},
   "outputs": [
    {
     "name": "stdout",
     "output_type": "stream",
     "text": [
      "upload: ./train.manifest to s3://vision20210905/circuitproject/train.manifest\n",
      "upload: ./test.manifest to s3://vision20210905/circuitproject/test.manifest\n"
     ]
    }
   ],
   "source": [
    "# ## Upload manifest files to S3 bucket:\n",
    "# !aws s3 cp train.manifest s3://{bucket}/{project}/train.manifest\n",
    "# !aws s3 cp test.manifest s3://{bucket}/{project}/test.manifest"
   ]
  },
  {
   "cell_type": "code",
   "execution_count": null,
   "metadata": {
    "scrolled": true
   },
   "outputs": [
    {
     "name": "stdout",
     "output_type": "stream",
     "text": [
      "upload: circuitboard/train/normal/train-normal_20.jpg to s3://vision20210905/circuitproject/train/normal/train-normal_20.jpg\n",
      "upload: circuitboard/train/normal/train-normal_13.jpg to s3://vision20210905/circuitproject/train/normal/train-normal_13.jpg\n",
      "upload: circuitboard/train/normal/train-normal_14.jpg to s3://vision20210905/circuitproject/train/normal/train-normal_14.jpg\n",
      "upload: circuitboard/train/normal/train-normal_3.jpg to s3://vision20210905/circuitproject/train/normal/train-normal_3.jpg\n",
      "upload: circuitboard/train/normal/train-normal_12.jpg to s3://vision20210905/circuitproject/train/normal/train-normal_12.jpg\n",
      "upload: circuitboard/train/normal/train-normal_10.jpg to s3://vision20210905/circuitproject/train/normal/train-normal_10.jpg\n",
      "upload: circuitboard/train/normal/train-normal_19.jpg to s3://vision20210905/circuitproject/train/normal/train-normal_19.jpg\n",
      "upload: circuitboard/train/normal/train-normal_1.jpg to s3://vision20210905/circuitproject/train/normal/train-normal_1.jpg\n",
      "upload: circuitboard/train/normal/train-normal_11.jpg to s3://vision20210905/circuitproject/train/normal/train-normal_11.jpg\n",
      "upload: circuitboard/train/normal/train-normal_2.jpg to s3://vision20210905/circuitproject/train/normal/train-normal_2.jpg\n",
      "upload: circuitboard/train/normal/train-normal_4.jpg to s3://vision20210905/circuitproject/train/normal/train-normal_4.jpg\n",
      "upload: circuitboard/train/normal/train-normal_6.jpg to s3://vision20210905/circuitproject/train/normal/train-normal_6.jpg\n",
      "upload: circuitboard/train/normal/train-normal_16.jpg to s3://vision20210905/circuitproject/train/normal/train-normal_16.jpg\n",
      "upload: circuitboard/train/normal/train-normal_7.jpg to s3://vision20210905/circuitproject/train/normal/train-normal_7.jpg\n",
      "upload: circuitboard/train/normal/train-normal_8.jpg to s3://vision20210905/circuitproject/train/normal/train-normal_8.jpg\n",
      "upload: circuitboard/train/normal/train-normal_17.jpg to s3://vision20210905/circuitproject/train/normal/train-normal_17.jpg\n",
      "upload: circuitboard/train/normal/train-normal_9.jpg to s3://vision20210905/circuitproject/train/normal/train-normal_9.jpg\n",
      "upload: circuitboard/train/normal/train-normal_5.jpg to s3://vision20210905/circuitproject/train/normal/train-normal_5.jpg\n",
      "upload: circuitboard/train/normal/train-normal_18.jpg to s3://vision20210905/circuitproject/train/normal/train-normal_18.jpg\n",
      "upload: circuitboard/train/normal/train-normal_15.jpg to s3://vision20210905/circuitproject/train/normal/train-normal_15.jpg\n",
      "upload: circuitboard/train/anomaly/train-anomaly_13.jpg to s3://vision20210905/circuitproject/train/anomaly/train-anomaly_13.jpg\n",
      "upload: circuitboard/train/anomaly/train-anomaly_1.jpg to s3://vision20210905/circuitproject/train/anomaly/train-anomaly_1.jpg\n",
      "upload: circuitboard/train/anomaly/train-anomaly_12.jpg to s3://vision20210905/circuitproject/train/anomaly/train-anomaly_12.jpg\n",
      "upload: circuitboard/train/anomaly/train-anomaly_10.jpg to s3://vision20210905/circuitproject/train/anomaly/train-anomaly_10.jpg\n",
      "upload: circuitboard/train/anomaly/train-anomaly_14.jpg to s3://vision20210905/circuitproject/train/anomaly/train-anomaly_14.jpg\n",
      "upload: circuitboard/train/anomaly/train-anomaly_3.jpg to s3://vision20210905/circuitproject/train/anomaly/train-anomaly_3.jpg\n",
      "upload: circuitboard/train/anomaly/train-anomaly_16.jpg to s3://vision20210905/circuitproject/train/anomaly/train-anomaly_16.jpg\n",
      "upload: circuitboard/train/anomaly/train-anomaly_17.jpg to s3://vision20210905/circuitproject/train/anomaly/train-anomaly_17.jpg\n",
      "upload: circuitboard/train/anomaly/train-anomaly_11.jpg to s3://vision20210905/circuitproject/train/anomaly/train-anomaly_11.jpg\n",
      "upload: circuitboard/train/anomaly/train-anomaly_15.jpg to s3://vision20210905/circuitproject/train/anomaly/train-anomaly_15.jpg\n",
      "upload: circuitboard/train/anomaly/train-anomaly_2.jpg to s3://vision20210905/circuitproject/train/anomaly/train-anomaly_2.jpg\n",
      "upload: circuitboard/train/anomaly/train-anomaly_18.jpg to s3://vision20210905/circuitproject/train/anomaly/train-anomaly_18.jpg\n",
      "upload: circuitboard/train/anomaly/train-anomaly_20.jpg to s3://vision20210905/circuitproject/train/anomaly/train-anomaly_20.jpg\n",
      "upload: circuitboard/train/anomaly/train-anomaly_9.jpg to s3://vision20210905/circuitproject/train/anomaly/train-anomaly_9.jpg\n",
      "upload: circuitboard/train/anomaly/train-normal_1.jpg to s3://vision20210905/circuitproject/train/anomaly/train-normal_1.jpg\n",
      "upload: circuitboard/train/anomaly/train-anomaly_8.jpg to s3://vision20210905/circuitproject/train/anomaly/train-anomaly_8.jpg\n",
      "upload: circuitboard/train/anomaly/train-anomaly_7.jpg to s3://vision20210905/circuitproject/train/anomaly/train-anomaly_7.jpg\n",
      "upload: circuitboard/train/anomaly/train-anomaly_5.jpg to s3://vision20210905/circuitproject/train/anomaly/train-anomaly_5.jpg\n",
      "upload: circuitboard/train/anomaly/train-normal_10.jpg to s3://vision20210905/circuitproject/train/anomaly/train-normal_10.jpg\n",
      "upload: circuitboard/train/anomaly/train-anomaly_19.jpg to s3://vision20210905/circuitproject/train/anomaly/train-anomaly_19.jpg\n",
      "upload: circuitboard/train/anomaly/train-anomaly_6.jpg to s3://vision20210905/circuitproject/train/anomaly/train-anomaly_6.jpg\n",
      "upload: circuitboard/train/anomaly/train-anomaly_4.jpg to s3://vision20210905/circuitproject/train/anomaly/train-anomaly_4.jpg\n",
      "upload: circuitboard/train/anomaly/train-normal_11.jpg to s3://vision20210905/circuitproject/train/anomaly/train-normal_11.jpg\n",
      "upload: circuitboard/test/normal/test-normal_10.jpg to s3://vision20210905/circuitproject/test/normal/test-normal_10.jpg\n",
      "upload: circuitboard/test/normal/test-normal_14.jpg to s3://vision20210905/circuitproject/test/normal/test-normal_14.jpg\n",
      "upload: circuitboard/test/normal/test-normal_17.jpg to s3://vision20210905/circuitproject/test/normal/test-normal_17.jpg\n",
      "upload: circuitboard/test/normal/test-normal_12.jpg to s3://vision20210905/circuitproject/test/normal/test-normal_12.jpg\n",
      "upload: circuitboard/test/normal/test-normal_11.jpg to s3://vision20210905/circuitproject/test/normal/test-normal_11.jpg\n",
      "upload: circuitboard/test/normal/test-normal_1.jpg to s3://vision20210905/circuitproject/test/normal/test-normal_1.jpg\n",
      "upload: circuitboard/test/normal/test-normal_3.jpg to s3://vision20210905/circuitproject/test/normal/test-normal_3.jpg\n",
      "upload: circuitboard/test/normal/test-normal_13.jpg to s3://vision20210905/circuitproject/test/normal/test-normal_13.jpg\n",
      "upload: circuitboard/test/normal/test-normal_4.jpg to s3://vision20210905/circuitproject/test/normal/test-normal_4.jpg\n",
      "upload: circuitboard/test/normal/test-normal_19.jpg to s3://vision20210905/circuitproject/test/normal/test-normal_19.jpg\n",
      "upload: circuitboard/test/normal/test-normal_6.jpg to s3://vision20210905/circuitproject/test/normal/test-normal_6.jpg\n",
      "upload: circuitboard/test/normal/test-normal_7.jpg to s3://vision20210905/circuitproject/test/normal/test-normal_7.jpg\n",
      "upload: circuitboard/test/normal/test-normal_2.jpg to s3://vision20210905/circuitproject/test/normal/test-normal_2.jpg\n",
      "upload: circuitboard/test/normal/test-normal_16.jpg to s3://vision20210905/circuitproject/test/normal/test-normal_16.jpg\n",
      "upload: circuitboard/test/normal/test-normal_8.jpg to s3://vision20210905/circuitproject/test/normal/test-normal_8.jpg\n",
      "upload: circuitboard/test/normal/test-normal_20.jpg to s3://vision20210905/circuitproject/test/normal/test-normal_20.jpg\n",
      "upload: circuitboard/test/normal/test-normal_15.jpg to s3://vision20210905/circuitproject/test/normal/test-normal_15.jpg\n",
      "upload: circuitboard/test/normal/test-normal_5.jpg to s3://vision20210905/circuitproject/test/normal/test-normal_5.jpg\n",
      "upload: circuitboard/test/normal/test-normal_18.jpg to s3://vision20210905/circuitproject/test/normal/test-normal_18.jpg\n",
      "upload: circuitboard/test/normal/test-normal_9.jpg to s3://vision20210905/circuitproject/test/normal/test-normal_9.jpg\n",
      "upload: circuitboard/test/anomaly/test-anomaly_20.jpg to s3://vision20210905/circuitproject/test/anomaly/test-anomaly_20.jpg\n",
      "upload: circuitboard/test/anomaly/test-anomaly_12.jpg to s3://vision20210905/circuitproject/test/anomaly/test-anomaly_12.jpg\n",
      "upload: circuitboard/test/anomaly/test-anomaly_10.jpg to s3://vision20210905/circuitproject/test/anomaly/test-anomaly_10.jpg\n",
      "upload: circuitboard/test/anomaly/test-anomaly_11.jpg to s3://vision20210905/circuitproject/test/anomaly/test-anomaly_11.jpg\n",
      "upload: circuitboard/test/anomaly/test-anomaly_6.jpg to s3://vision20210905/circuitproject/test/anomaly/test-anomaly_6.jpg\n",
      "upload: circuitboard/test/anomaly/test-anomaly_4.jpg to s3://vision20210905/circuitproject/test/anomaly/test-anomaly_4.jpg\n",
      "upload: circuitboard/test/anomaly/test-anomaly_13.jpg to s3://vision20210905/circuitproject/test/anomaly/test-anomaly_13.jpg\n",
      "upload: circuitboard/test/anomaly/test-anomaly_1.jpg to s3://vision20210905/circuitproject/test/anomaly/test-anomaly_1.jpg\n",
      "upload: circuitboard/test/anomaly/test-anomaly_14.jpg to s3://vision20210905/circuitproject/test/anomaly/test-anomaly_14.jpg\n",
      "upload: circuitboard/test/anomaly/test-anomaly_5.jpg to s3://vision20210905/circuitproject/test/anomaly/test-anomaly_5.jpg\n",
      "upload: circuitboard/test/anomaly/test-anomaly_7.jpg to s3://vision20210905/circuitproject/test/anomaly/test-anomaly_7.jpg\n",
      "upload: circuitboard/test/anomaly/test-anomaly_15.jpg to s3://vision20210905/circuitproject/test/anomaly/test-anomaly_15.jpg\n",
      "upload: circuitboard/test/anomaly/test-anomaly_9.jpg to s3://vision20210905/circuitproject/test/anomaly/test-anomaly_9.jpg\n",
      "upload: circuitboard/test/anomaly/test-anomaly_8.jpg to s3://vision20210905/circuitproject/test/anomaly/test-anomaly_8.jpg\n",
      "upload: circuitboard/test/anomaly/test-anomaly_17.jpg to s3://vision20210905/circuitproject/test/anomaly/test-anomaly_17.jpg\n",
      "upload: circuitboard/test/anomaly/test-anomaly_19.jpg to s3://vision20210905/circuitproject/test/anomaly/test-anomaly_19.jpg\n",
      "upload: circuitboard/test/anomaly/test-anomaly_16.jpg to s3://vision20210905/circuitproject/test/anomaly/test-anomaly_16.jpg\n",
      "upload: circuitboard/test/anomaly/test-anomaly_18.jpg to s3://vision20210905/circuitproject/test/anomaly/test-anomaly_18.jpg\n"
     ]
    }
   ],
   "source": [
    "# ## Upload images to S3 bucket:\n",
    "# !aws s3 cp circuitboard/train/normal s3://{bucket}/{project}/train/normal --recursive\n",
    "# !aws s3 cp circuitboard/train/anomaly s3://{bucket}/{project}/train/anomaly --recursive\n",
    "# !aws s3 cp circuitboard/test/normal s3://{bucket}/{project}/test/normal --recursive\n",
    "# !aws s3 cp circuitboard/test/anomaly s3://{bucket}/{project}/test/anomaly --recursive"
   ]
  },
  {
   "cell_type": "code",
   "execution_count": null,
   "metadata": {},
   "outputs": [],
   "source": []
  }
 ],
 "metadata": {
  "instance_type": "ml.t3.medium",
  "kernelspec": {
   "display_name": "awsmle_py310",
   "language": "python",
   "name": "python3"
  },
  "language_info": {
   "codemirror_mode": {
    "name": "ipython",
    "version": 3
   },
   "file_extension": ".py",
   "mimetype": "text/x-python",
   "name": "python",
   "nbconvert_exporter": "python",
   "pygments_lexer": "ipython3",
   "version": "3.10.15"
  }
 },
 "nbformat": 4,
 "nbformat_minor": 4
}
