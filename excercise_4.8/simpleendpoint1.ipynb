{
 "cells": [
  {
   "cell_type": "markdown",
   "id": "11fd6755",
   "metadata": {},
   "source": [
    "* changed by nov05 on 2024-12-10   \n",
    "* All operations are executed from local conda env `awsmle_py310`.  \n",
    "* changed dataset, separated `train.py` and `inference.py`, added testing code, etc.   \n",
    "* auto-scaling tutorial  \n",
    "    https://youtu.be/afIMvatnkzE  \n",
    "    https://youtu.be/bbcf1xyGIYw  \n",
    "    https://youtu.be/ai9RexqqjVs  \n"
   ]
  },
  {
   "cell_type": "code",
   "execution_count": 1,
   "id": "74ddb803",
   "metadata": {},
   "outputs": [
    {
     "data": {
      "text/plain": [
       "'d:\\\\github\\\\udacity-aws-mle-nano-course5\\\\excercise_4.8'"
      ]
     },
     "execution_count": 1,
     "metadata": {},
     "output_type": "execute_result"
    }
   ],
   "source": [
    "%pwd"
   ]
  },
  {
   "cell_type": "code",
   "execution_count": 117,
   "id": "5ee270de",
   "metadata": {},
   "outputs": [],
   "source": [
    "! notepad C:\\Users\\guido\\.aws\\credentials"
   ]
  },
  {
   "cell_type": "code",
   "execution_count": 1,
   "id": "603facdf",
   "metadata": {},
   "outputs": [
    {
     "name": "stderr",
     "output_type": "stream",
     "text": [
      "d:\\Users\\guido\\miniconda3\\envs\\awsmle_py310\\lib\\site-packages\\pydantic\\_internal\\_fields.py:192: UserWarning: Field name \"json\" in \"MonitoringDatasetFormat\" shadows an attribute in parent \"Base\"\n",
      "  warnings.warn(\n"
     ]
    },
    {
     "data": {
      "text/html": [
       "<pre style=\"white-space:pre;overflow-x:auto;line-height:normal;font-family:Menlo,'DejaVu Sans Mono',consolas,'Courier New',monospace\"><span style=\"color: #7fbfbf; text-decoration-color: #7fbfbf\">[12/11/24 04:01:09] </span><span style=\"color: #0069ff; text-decoration-color: #0069ff; font-weight: bold\">INFO    </span> Found credentials in shared credentials file: ~<span style=\"color: #e100e1; text-decoration-color: #e100e1\">/.aws/credentials</span>   <a href=\"file://d:\\Users\\guido\\miniconda3\\envs\\awsmle_py310\\lib\\site-packages\\botocore\\credentials.py\" target=\"_blank\"><span style=\"color: #7f7f7f; text-decoration-color: #7f7f7f\">credentials.py</span></a><span style=\"color: #7f7f7f; text-decoration-color: #7f7f7f\">:</span><a href=\"file://d:\\Users\\guido\\miniconda3\\envs\\awsmle_py310\\lib\\site-packages\\botocore\\credentials.py#1278\" target=\"_blank\"><span style=\"color: #7f7f7f; text-decoration-color: #7f7f7f\">1278</span></a>\n",
       "</pre>\n"
      ],
      "text/plain": [
       "\u001b[2;36m[12/11/24 04:01:09]\u001b[0m\u001b[2;36m \u001b[0m\u001b[1;38;2;0;105;255mINFO    \u001b[0m Found credentials in shared credentials file: ~\u001b[38;2;225;0;225m/.aws/\u001b[0m\u001b[38;2;225;0;225mcredentials\u001b[0m   \u001b]8;id=959165;file://d:\\Users\\guido\\miniconda3\\envs\\awsmle_py310\\lib\\site-packages\\botocore\\credentials.py\u001b\\\u001b[2mcredentials.py\u001b[0m\u001b]8;;\u001b\\\u001b[2m:\u001b[0m\u001b]8;id=880273;file://d:\\Users\\guido\\miniconda3\\envs\\awsmle_py310\\lib\\site-packages\\botocore\\credentials.py#1278\u001b\\\u001b[2m1278\u001b[0m\u001b]8;;\u001b\\\n"
      ]
     },
     "metadata": {},
     "output_type": "display_data"
    },
    {
     "name": "stdout",
     "output_type": "stream",
     "text": [
      "sagemaker.config INFO - Not applying SDK defaults from location: C:\\ProgramData\\sagemaker\\sagemaker\\config.yaml\n",
      "sagemaker.config INFO - Not applying SDK defaults from location: C:\\Users\\guido\\AppData\\Local\\sagemaker\\sagemaker\\config.yaml\n"
     ]
    },
    {
     "data": {
      "text/html": [
       "<pre style=\"white-space:pre;overflow-x:auto;line-height:normal;font-family:Menlo,'DejaVu Sans Mono',consolas,'Courier New',monospace\"><span style=\"color: #7fbfbf; text-decoration-color: #7fbfbf\">[12/11/24 04:01:11] </span><span style=\"color: #d7af00; text-decoration-color: #d7af00; font-weight: bold\">WARNING </span> Couldn't call <span style=\"color: #008700; text-decoration-color: #008700\">'get_role'</span> to get Role ARN from role name voclabs to get <a href=\"file://d:\\Users\\guido\\miniconda3\\envs\\awsmle_py310\\lib\\site-packages\\sagemaker\\session.py\" target=\"_blank\"><span style=\"color: #7f7f7f; text-decoration-color: #7f7f7f\">session.py</span></a><span style=\"color: #7f7f7f; text-decoration-color: #7f7f7f\">:</span><a href=\"file://d:\\Users\\guido\\miniconda3\\envs\\awsmle_py310\\lib\\site-packages\\sagemaker\\session.py#5902\" target=\"_blank\"><span style=\"color: #7f7f7f; text-decoration-color: #7f7f7f\">5902</span></a>\n",
       "<span style=\"color: #7fbfbf; text-decoration-color: #7fbfbf\">                    </span>         Role path.                                                             <span style=\"color: #7f7f7f; text-decoration-color: #7f7f7f\">               </span>\n",
       "</pre>\n"
      ],
      "text/plain": [
       "\u001b[2;36m[12/11/24 04:01:11]\u001b[0m\u001b[2;36m \u001b[0m\u001b[1;38;2;215;175;0mWARNING \u001b[0m Couldn't call \u001b[38;2;0;135;0m'get_role'\u001b[0m to get Role ARN from role name voclabs to get \u001b]8;id=391772;file://d:\\Users\\guido\\miniconda3\\envs\\awsmle_py310\\lib\\site-packages\\sagemaker\\session.py\u001b\\\u001b[2msession.py\u001b[0m\u001b]8;;\u001b\\\u001b[2m:\u001b[0m\u001b]8;id=492900;file://d:\\Users\\guido\\miniconda3\\envs\\awsmle_py310\\lib\\site-packages\\sagemaker\\session.py#5902\u001b\\\u001b[2m5902\u001b[0m\u001b]8;;\u001b\\\n",
       "\u001b[2;36m                    \u001b[0m         Role path.                                                             \u001b[2m               \u001b[0m\n"
      ]
     },
     "metadata": {},
     "output_type": "display_data"
    },
    {
     "name": "stdout",
     "output_type": "stream",
     "text": [
      "Role ARN (voclabs): arn:aws:iam::026211625715:role/voclabs\n",
      "AWS Region: us-east-1\n",
      "Default SageMaker Bucket: sagemaker-us-east-1-026211625715\n",
      "Role Arn (SageMaker): arn:aws:iam::026211625715:role/service-role/AmazonSageMaker-ExecutionRole-20241209T041445\n"
     ]
    }
   ],
   "source": [
    "## reset the session after updating credentials\n",
    "import boto3 # type: ignore\n",
    "boto3.DEFAULT_SESSION = None\n",
    "sagemaker_client = boto3.client(\"sagemaker\")\n",
    "## Define IAM role\n",
    "import sagemaker # type: ignore\n",
    "from sagemaker import get_execution_role # type: ignore\n",
    "role_arn = get_execution_role()  ## get role ARN\n",
    "if 'AmazonSageMaker-ExecutionRole' not in role_arn:\n",
    "    print(f\"Role ARN (voclabs): {role_arn}\")  ## arn:aws:iam::026211625715:role/voclabs\n",
    "    ## your own role here\n",
    "    role_arn = \"arn:aws:iam::026211625715:role/service-role/AmazonSageMaker-ExecutionRole-20241209T041445\"\n",
    "session = sagemaker.Session()\n",
    "region = session.boto_region_name\n",
    "bucket = session.default_bucket()\n",
    "print(\"AWS Region: {}\".format(region))\n",
    "print(\"Default SageMaker Bucket: {}\".format(bucket))\n",
    "print(\"Role Arn (SageMaker): {}\".format(role_arn))"
   ]
  },
  {
   "cell_type": "code",
   "execution_count": null,
   "id": "a8b55455",
   "metadata": {},
   "outputs": [
    {
     "data": {
      "text/html": [
       "<pre style=\"white-space:pre;overflow-x:auto;line-height:normal;font-family:Menlo,'DejaVu Sans Mono',consolas,'Courier New',monospace\"><span style=\"color: #ff0000; text-decoration-color: #ff0000\">╭─────────────────────────────── </span><span style=\"color: #ff0000; text-decoration-color: #ff0000; font-weight: bold\">Traceback </span><span style=\"color: #ff7f7f; text-decoration-color: #ff7f7f; font-weight: bold\">(most recent call last)</span><span style=\"color: #ff0000; text-decoration-color: #ff0000\"> ────────────────────────────────╮</span>\n",
       "<span style=\"color: #ff0000; text-decoration-color: #ff0000\">│</span> in <span style=\"color: #00ff00; text-decoration-color: #00ff00\">&lt;module&gt;</span>:<span style=\"color: #0000ff; text-decoration-color: #0000ff\">3</span>                                                                                    <span style=\"color: #ff0000; text-decoration-color: #ff0000\">│</span>\n",
       "<span style=\"color: #ff0000; text-decoration-color: #ff0000\">│</span>                                                                                                  <span style=\"color: #ff0000; text-decoration-color: #ff0000\">│</span>\n",
       "<span style=\"color: #ff0000; text-decoration-color: #ff0000\">│</span>   <span style=\"color: #7f7f7f; text-decoration-color: #7f7f7f\"> 1 </span><span style=\"color: #0000ff; text-decoration-color: #0000ff\">import</span> <span style=\"color: #00ffff; text-decoration-color: #00ffff; text-decoration: underline\">pandas</span> <span style=\"color: #0000ff; text-decoration-color: #0000ff\">as</span> <span style=\"color: #00ffff; text-decoration-color: #00ffff; text-decoration: underline\">pd</span>                                                                         <span style=\"color: #ff0000; text-decoration-color: #ff0000\">│</span>\n",
       "<span style=\"color: #ff0000; text-decoration-color: #ff0000\">│</span>   <span style=\"color: #7f7f7f; text-decoration-color: #7f7f7f\"> 2 </span><span style=\"color: #0000ff; text-decoration-color: #0000ff\">from</span> <span style=\"color: #00ffff; text-decoration-color: #00ffff; text-decoration: underline\">sklearn.model_selection</span> <span style=\"color: #0000ff; text-decoration-color: #0000ff\">import</span> train_test_split                                        <span style=\"color: #ff0000; text-decoration-color: #ff0000\">│</span>\n",
       "<span style=\"color: #ff0000; text-decoration-color: #ff0000\">│</span> <span style=\"color: #800000; text-decoration-color: #800000\">❱ </span> 3 <span style=\"color: #0000ff; text-decoration-color: #0000ff\">from</span> <span style=\"color: #00ffff; text-decoration-color: #00ffff; text-decoration: underline\">sklearn.datasets</span> <span style=\"color: #0000ff; text-decoration-color: #0000ff\">import</span> load_boston                                                    <span style=\"color: #ff0000; text-decoration-color: #ff0000\">│</span>\n",
       "<span style=\"color: #ff0000; text-decoration-color: #ff0000\">│</span>   <span style=\"color: #7f7f7f; text-decoration-color: #7f7f7f\"> 4 # we use the Boston housing dataset</span>                                                         <span style=\"color: #ff0000; text-decoration-color: #ff0000\">│</span>\n",
       "<span style=\"color: #ff0000; text-decoration-color: #ff0000\">│</span>   <span style=\"color: #7f7f7f; text-decoration-color: #7f7f7f\"> 5 </span>data = load_boston()                                                                        <span style=\"color: #ff0000; text-decoration-color: #ff0000\">│</span>\n",
       "<span style=\"color: #ff0000; text-decoration-color: #ff0000\">│</span>   <span style=\"color: #7f7f7f; text-decoration-color: #7f7f7f\"> 6 </span>X_train, X_test, y_train, y_test = train_test_split(                                        <span style=\"color: #ff0000; text-decoration-color: #ff0000\">│</span>\n",
       "<span style=\"color: #ff0000; text-decoration-color: #ff0000\">│</span>                                                                                                  <span style=\"color: #ff0000; text-decoration-color: #ff0000\">│</span>\n",
       "<span style=\"color: #ff0000; text-decoration-color: #ff0000\">│</span> <span style=\"color: #808000; text-decoration-color: #808000\">d:\\Users\\guido\\miniconda3\\envs\\awsmle_py310\\lib\\site-packages\\sklearn\\datasets\\__init__.py</span>:<span style=\"color: #0000ff; text-decoration-color: #0000ff\">157</span>   <span style=\"color: #ff0000; text-decoration-color: #ff0000\">│</span>\n",
       "<span style=\"color: #ff0000; text-decoration-color: #ff0000\">│</span> in <span style=\"color: #00ff00; text-decoration-color: #00ff00\">__getattr__</span>                                                                                   <span style=\"color: #ff0000; text-decoration-color: #ff0000\">│</span>\n",
       "<span style=\"color: #ff0000; text-decoration-color: #ff0000\">│</span>                                                                                                  <span style=\"color: #ff0000; text-decoration-color: #ff0000\">│</span>\n",
       "<span style=\"color: #ff0000; text-decoration-color: #ff0000\">│</span>   <span style=\"color: #7f7f7f; text-decoration-color: #7f7f7f\">154 </span><span style=\"color: #bfbf7f; text-decoration-color: #bfbf7f\">│   │   │   </span><span style=\"color: #808000; text-decoration-color: #808000\">Journal of environmental economics and management 5.1 (1978): 81-102.</span>          <span style=\"color: #ff0000; text-decoration-color: #ff0000\">│</span>\n",
       "<span style=\"color: #ff0000; text-decoration-color: #ff0000\">│</span>   <span style=\"color: #7f7f7f; text-decoration-color: #7f7f7f\">155 </span><span style=\"color: #bfbf7f; text-decoration-color: #bfbf7f\">│   │   │   </span><span style=\"color: #808000; text-decoration-color: #808000\">&lt;https://www.researchgate.net/publication/4974606_Hedonic_housing_prices_and</span>   <span style=\"color: #ff0000; text-decoration-color: #ff0000\">│</span>\n",
       "<span style=\"color: #ff0000; text-decoration-color: #ff0000\">│</span>   <span style=\"color: #7f7f7f; text-decoration-color: #7f7f7f\">156 </span><span style=\"color: #bfbf7f; text-decoration-color: #bfbf7f\">│   │   │   </span><span style=\"color: #808000; text-decoration-color: #808000\">\"\"\"</span>)                                                                           <span style=\"color: #ff0000; text-decoration-color: #ff0000\">│</span>\n",
       "<span style=\"color: #ff0000; text-decoration-color: #ff0000\">│</span> <span style=\"color: #800000; text-decoration-color: #800000\">❱ </span>157 <span style=\"color: #7f7f7f; text-decoration-color: #7f7f7f\">│   │   </span><span style=\"color: #0000ff; text-decoration-color: #0000ff\">raise</span> <span style=\"color: #00ffff; text-decoration-color: #00ffff\">ImportError</span>(msg)                                                             <span style=\"color: #ff0000; text-decoration-color: #ff0000\">│</span>\n",
       "<span style=\"color: #ff0000; text-decoration-color: #ff0000\">│</span>   <span style=\"color: #7f7f7f; text-decoration-color: #7f7f7f\">158 </span><span style=\"color: #7f7f7f; text-decoration-color: #7f7f7f\">│   </span><span style=\"color: #0000ff; text-decoration-color: #0000ff\">try</span>:                                                                                   <span style=\"color: #ff0000; text-decoration-color: #ff0000\">│</span>\n",
       "<span style=\"color: #ff0000; text-decoration-color: #ff0000\">│</span>   <span style=\"color: #7f7f7f; text-decoration-color: #7f7f7f\">159 </span><span style=\"color: #7f7f7f; text-decoration-color: #7f7f7f\">│   │   </span><span style=\"color: #0000ff; text-decoration-color: #0000ff\">return</span> <span style=\"color: #00ffff; text-decoration-color: #00ffff\">globals</span>()[name]                                                             <span style=\"color: #ff0000; text-decoration-color: #ff0000\">│</span>\n",
       "<span style=\"color: #ff0000; text-decoration-color: #ff0000\">│</span>   <span style=\"color: #7f7f7f; text-decoration-color: #7f7f7f\">160 </span><span style=\"color: #7f7f7f; text-decoration-color: #7f7f7f\">│   </span><span style=\"color: #0000ff; text-decoration-color: #0000ff\">except</span> <span style=\"color: #00ffff; text-decoration-color: #00ffff\">KeyError</span>:                                                                       <span style=\"color: #ff0000; text-decoration-color: #ff0000\">│</span>\n",
       "<span style=\"color: #ff0000; text-decoration-color: #ff0000\">╰──────────────────────────────────────────────────────────────────────────────────────────────────╯</span>\n",
       "<span style=\"color: #ff0000; text-decoration-color: #ff0000; font-weight: bold\">ImportError: </span>\n",
       "`load_boston` has been removed from scikit-learn since version <span style=\"color: #008080; text-decoration-color: #008080; font-weight: bold\">1.2</span>.\n",
       "\n",
       "The Boston housing prices dataset has an ethical problem: as\n",
       "investigated in <span style=\"font-weight: bold\">[</span><span style=\"color: #008080; text-decoration-color: #008080; font-weight: bold\">1</span><span style=\"font-weight: bold\">]</span>, the authors of this dataset engineered a\n",
       "non-invertible variable <span style=\"color: #008700; text-decoration-color: #008700\">\"B\"</span> assuming that racial self-segregation had a\n",
       "positive impact on house prices <span style=\"font-weight: bold\">[</span><span style=\"color: #008080; text-decoration-color: #008080; font-weight: bold\">2</span><span style=\"font-weight: bold\">]</span>. Furthermore the goal of the\n",
       "research that led to the creation of this dataset was to study the\n",
       "impact of air quality but it did not give adequate demonstration of the\n",
       "validity of this assumption.\n",
       "\n",
       "The scikit-learn maintainers therefore strongly discourage the use of\n",
       "this dataset unless the purpose of the code is to study and educate\n",
       "about ethical issues in data science and machine learning.\n",
       "\n",
       "In this special case, you can fetch the dataset from the original\n",
       "source::\n",
       "\n",
       "    import pandas as pd\n",
       "    import numpy as np\n",
       "\n",
       "    data_url = <span style=\"color: #008700; text-decoration-color: #008700\">\"http://lib.stat.cmu.edu/datasets/boston\"</span>\n",
       "    raw_df = <span style=\"color: #e100e1; text-decoration-color: #e100e1; font-weight: bold\">pd.read_csv</span><span style=\"font-weight: bold\">(</span>data_url, <span style=\"color: #d7af00; text-decoration-color: #d7af00\">sep</span>=<span style=\"color: #008700; text-decoration-color: #008700\">\"\\s+\"</span>, <span style=\"color: #d7af00; text-decoration-color: #d7af00\">skiprows</span>=<span style=\"color: #008080; text-decoration-color: #008080; font-weight: bold\">22</span>, <span style=\"color: #d7af00; text-decoration-color: #d7af00\">header</span>=<span style=\"color: #e100e1; text-decoration-color: #e100e1; font-style: italic\">None</span><span style=\"font-weight: bold\">)</span>\n",
       "    data = <span style=\"color: #e100e1; text-decoration-color: #e100e1; font-weight: bold\">np.hstack</span><span style=\"font-weight: bold\">([</span>raw_df.values<span style=\"font-weight: bold\">[</span>::<span style=\"color: #008080; text-decoration-color: #008080; font-weight: bold\">2</span>, :<span style=\"font-weight: bold\">]</span>, raw_df.values<span style=\"font-weight: bold\">[</span>1::2, :<span style=\"color: #008080; text-decoration-color: #008080; font-weight: bold\">2</span><span style=\"font-weight: bold\">]])</span>\n",
       "    target = raw_df.values<span style=\"font-weight: bold\">[</span>1::2, <span style=\"color: #008080; text-decoration-color: #008080; font-weight: bold\">2</span><span style=\"font-weight: bold\">]</span>\n",
       "\n",
       "Alternative datasets include the California housing dataset and the\n",
       "Ames housing dataset. You can load the datasets as follows::\n",
       "\n",
       "    from sklearn.datasets import fetch_california_housing\n",
       "    housing = <span style=\"color: #e100e1; text-decoration-color: #e100e1; font-weight: bold\">fetch_california_housing</span><span style=\"font-weight: bold\">()</span>\n",
       "\n",
       "for the California housing dataset and::\n",
       "\n",
       "    from sklearn.datasets import fetch_openml\n",
       "    housing = <span style=\"color: #e100e1; text-decoration-color: #e100e1; font-weight: bold\">fetch_openml</span><span style=\"font-weight: bold\">(</span><span style=\"color: #d7af00; text-decoration-color: #d7af00\">name</span>=<span style=\"color: #008700; text-decoration-color: #008700\">\"house_prices\"</span>, <span style=\"color: #d7af00; text-decoration-color: #d7af00\">as_frame</span>=<span style=\"color: #008700; text-decoration-color: #008700; font-style: italic\">True</span><span style=\"font-weight: bold\">)</span>\n",
       "\n",
       "for the Ames housing dataset.\n",
       "\n",
       "<span style=\"font-weight: bold\">[</span><span style=\"color: #008080; text-decoration-color: #008080; font-weight: bold\">1</span><span style=\"font-weight: bold\">]</span> M Carlisle.\n",
       "<span style=\"color: #008700; text-decoration-color: #008700\">\"Racist data destruction?\"</span>\n",
       "<span style=\"font-weight: bold\">&lt;</span><span style=\"color: #0069ff; text-decoration-color: #0069ff; font-weight: bold; text-decoration: underline\">https:</span><span style=\"color: #0069ff; text-decoration-color: #0069ff; text-decoration: underline\">//medium.com/@docintangible/racist-data-destruction-113e3eff54a8</span><span style=\"color: #000000; text-decoration-color: #000000\">&gt;</span>\n",
       "\n",
       "<span style=\"color: #000000; text-decoration-color: #000000; font-weight: bold\">[</span><span style=\"color: #008080; text-decoration-color: #008080; font-weight: bold\">2</span><span style=\"color: #000000; text-decoration-color: #000000; font-weight: bold\">]</span><span style=\"color: #000000; text-decoration-color: #000000\"> Harrison Jr, David, and Daniel L. Rubinfeld.</span>\n",
       "<span style=\"color: #008700; text-decoration-color: #008700\">\"Hedonic housing prices and the demand for clean air.\"</span>\n",
       "<span style=\"color: #000000; text-decoration-color: #000000\">Journal of environmental economics and management </span><span style=\"color: #008080; text-decoration-color: #008080; font-weight: bold\">5.1</span><span style=\"color: #000000; text-decoration-color: #000000\"> </span><span style=\"color: #000000; text-decoration-color: #000000; font-weight: bold\">(</span><span style=\"color: #008080; text-decoration-color: #008080; font-weight: bold\">1978</span><span style=\"color: #000000; text-decoration-color: #000000; font-weight: bold\">)</span><span style=\"color: #000000; text-decoration-color: #000000\">: </span><span style=\"color: #008080; text-decoration-color: #008080; font-weight: bold\">81</span><span style=\"color: #000000; text-decoration-color: #000000\">-</span><span style=\"color: #008080; text-decoration-color: #008080; font-weight: bold\">102</span><span style=\"color: #000000; text-decoration-color: #000000\">.</span>\n",
       "<span style=\"color: #000000; text-decoration-color: #000000\">&lt;</span><span style=\"color: #0069ff; text-decoration-color: #0069ff; text-decoration: underline\">https://www.researchgate.net/publication/4974606_Hedonic_housing_prices_and_the_demand_for_clean_air</span><span style=\"font-weight: bold\">&gt;</span>\n",
       "\n",
       "</pre>\n"
      ],
      "text/plain": [
       "\u001b[38;2;255;0;0m╭─\u001b[0m\u001b[38;2;255;0;0m──────────────────────────────\u001b[0m\u001b[38;2;255;0;0m \u001b[0m\u001b[1;38;2;255;0;0mTraceback \u001b[0m\u001b[1;2;38;2;255;0;0m(most recent call last)\u001b[0m\u001b[38;2;255;0;0m \u001b[0m\u001b[38;2;255;0;0m───────────────────────────────\u001b[0m\u001b[38;2;255;0;0m─╮\u001b[0m\n",
       "\u001b[38;2;255;0;0m│\u001b[0m in \u001b[92m<module>\u001b[0m:\u001b[94m3\u001b[0m                                                                                    \u001b[38;2;255;0;0m│\u001b[0m\n",
       "\u001b[38;2;255;0;0m│\u001b[0m                                                                                                  \u001b[38;2;255;0;0m│\u001b[0m\n",
       "\u001b[38;2;255;0;0m│\u001b[0m   \u001b[2m 1 \u001b[0m\u001b[94mimport\u001b[0m \u001b[4;96mpandas\u001b[0m \u001b[94mas\u001b[0m \u001b[4;96mpd\u001b[0m                                                                         \u001b[38;2;255;0;0m│\u001b[0m\n",
       "\u001b[38;2;255;0;0m│\u001b[0m   \u001b[2m 2 \u001b[0m\u001b[94mfrom\u001b[0m \u001b[4;96msklearn\u001b[0m\u001b[4;96m.\u001b[0m\u001b[4;96mmodel_selection\u001b[0m \u001b[94mimport\u001b[0m train_test_split                                        \u001b[38;2;255;0;0m│\u001b[0m\n",
       "\u001b[38;2;255;0;0m│\u001b[0m \u001b[31m❱ \u001b[0m 3 \u001b[94mfrom\u001b[0m \u001b[4;96msklearn\u001b[0m\u001b[4;96m.\u001b[0m\u001b[4;96mdatasets\u001b[0m \u001b[94mimport\u001b[0m load_boston                                                    \u001b[38;2;255;0;0m│\u001b[0m\n",
       "\u001b[38;2;255;0;0m│\u001b[0m   \u001b[2m 4 \u001b[0m\u001b[2m# we use the Boston housing dataset\u001b[0m                                                         \u001b[38;2;255;0;0m│\u001b[0m\n",
       "\u001b[38;2;255;0;0m│\u001b[0m   \u001b[2m 5 \u001b[0mdata = load_boston()                                                                        \u001b[38;2;255;0;0m│\u001b[0m\n",
       "\u001b[38;2;255;0;0m│\u001b[0m   \u001b[2m 6 \u001b[0mX_train, X_test, y_train, y_test = train_test_split(                                        \u001b[38;2;255;0;0m│\u001b[0m\n",
       "\u001b[38;2;255;0;0m│\u001b[0m                                                                                                  \u001b[38;2;255;0;0m│\u001b[0m\n",
       "\u001b[38;2;255;0;0m│\u001b[0m \u001b[33md:\\Users\\guido\\miniconda3\\envs\\awsmle_py310\\lib\\site-packages\\sklearn\\datasets\\__init__.py\u001b[0m:\u001b[94m157\u001b[0m   \u001b[38;2;255;0;0m│\u001b[0m\n",
       "\u001b[38;2;255;0;0m│\u001b[0m in \u001b[92m__getattr__\u001b[0m                                                                                   \u001b[38;2;255;0;0m│\u001b[0m\n",
       "\u001b[38;2;255;0;0m│\u001b[0m                                                                                                  \u001b[38;2;255;0;0m│\u001b[0m\n",
       "\u001b[38;2;255;0;0m│\u001b[0m   \u001b[2m154 \u001b[0m\u001b[2;33m│   │   │   \u001b[0m\u001b[33mJournal of environmental economics and management 5.1 (1978): 81-102.\u001b[0m          \u001b[38;2;255;0;0m│\u001b[0m\n",
       "\u001b[38;2;255;0;0m│\u001b[0m   \u001b[2m155 \u001b[0m\u001b[2;33m│   │   │   \u001b[0m\u001b[33m<https://www.researchgate.net/publication/4974606_Hedonic_housing_prices_and\u001b[0m   \u001b[38;2;255;0;0m│\u001b[0m\n",
       "\u001b[38;2;255;0;0m│\u001b[0m   \u001b[2m156 \u001b[0m\u001b[2;33m│   │   │   \u001b[0m\u001b[33m\"\"\"\u001b[0m)                                                                           \u001b[38;2;255;0;0m│\u001b[0m\n",
       "\u001b[38;2;255;0;0m│\u001b[0m \u001b[31m❱ \u001b[0m157 \u001b[2m│   │   \u001b[0m\u001b[94mraise\u001b[0m \u001b[96mImportError\u001b[0m(msg)                                                             \u001b[38;2;255;0;0m│\u001b[0m\n",
       "\u001b[38;2;255;0;0m│\u001b[0m   \u001b[2m158 \u001b[0m\u001b[2m│   \u001b[0m\u001b[94mtry\u001b[0m:                                                                                   \u001b[38;2;255;0;0m│\u001b[0m\n",
       "\u001b[38;2;255;0;0m│\u001b[0m   \u001b[2m159 \u001b[0m\u001b[2m│   │   \u001b[0m\u001b[94mreturn\u001b[0m \u001b[96mglobals\u001b[0m()[name]                                                             \u001b[38;2;255;0;0m│\u001b[0m\n",
       "\u001b[38;2;255;0;0m│\u001b[0m   \u001b[2m160 \u001b[0m\u001b[2m│   \u001b[0m\u001b[94mexcept\u001b[0m \u001b[96mKeyError\u001b[0m:                                                                       \u001b[38;2;255;0;0m│\u001b[0m\n",
       "\u001b[38;2;255;0;0m╰──────────────────────────────────────────────────────────────────────────────────────────────────╯\u001b[0m\n",
       "\u001b[1;91mImportError: \u001b[0m\n",
       "`load_boston` has been removed from scikit-learn since version \u001b[1;36m1.2\u001b[0m.\n",
       "\n",
       "The Boston housing prices dataset has an ethical problem: as\n",
       "investigated in \u001b[1m[\u001b[0m\u001b[1;36m1\u001b[0m\u001b[1m]\u001b[0m, the authors of this dataset engineered a\n",
       "non-invertible variable \u001b[38;2;0;135;0m\"B\"\u001b[0m assuming that racial self-segregation had a\n",
       "positive impact on house prices \u001b[1m[\u001b[0m\u001b[1;36m2\u001b[0m\u001b[1m]\u001b[0m. Furthermore the goal of the\n",
       "research that led to the creation of this dataset was to study the\n",
       "impact of air quality but it did not give adequate demonstration of the\n",
       "validity of this assumption.\n",
       "\n",
       "The scikit-learn maintainers therefore strongly discourage the use of\n",
       "this dataset unless the purpose of the code is to study and educate\n",
       "about ethical issues in data science and machine learning.\n",
       "\n",
       "In this special case, you can fetch the dataset from the original\n",
       "source::\n",
       "\n",
       "    import pandas as pd\n",
       "    import numpy as np\n",
       "\n",
       "    data_url = \u001b[38;2;0;135;0m\"http://lib.stat.cmu.edu/datasets/boston\"\u001b[0m\n",
       "    raw_df = \u001b[1;38;2;225;0;225mpd.read_csv\u001b[0m\u001b[1m(\u001b[0mdata_url, \u001b[38;2;215;175;0msep\u001b[0m=\u001b[38;2;0;135;0m\"\\s+\"\u001b[0m, \u001b[38;2;215;175;0mskiprows\u001b[0m=\u001b[1;36m22\u001b[0m, \u001b[38;2;215;175;0mheader\u001b[0m=\u001b[3;38;2;225;0;225mNone\u001b[0m\u001b[1m)\u001b[0m\n",
       "    data = \u001b[1;38;2;225;0;225mnp.hstack\u001b[0m\u001b[1m(\u001b[0m\u001b[1m[\u001b[0mraw_df.values\u001b[1m[\u001b[0m::\u001b[1;36m2\u001b[0m, :\u001b[1m]\u001b[0m, raw_df.values\u001b[1m[\u001b[0m1::2, :\u001b[1;36m2\u001b[0m\u001b[1m]\u001b[0m\u001b[1m]\u001b[0m\u001b[1m)\u001b[0m\n",
       "    target = raw_df.values\u001b[1m[\u001b[0m1::2, \u001b[1;36m2\u001b[0m\u001b[1m]\u001b[0m\n",
       "\n",
       "Alternative datasets include the California housing dataset and the\n",
       "Ames housing dataset. You can load the datasets as follows::\n",
       "\n",
       "    from sklearn.datasets import fetch_california_housing\n",
       "    housing = \u001b[1;38;2;225;0;225mfetch_california_housing\u001b[0m\u001b[1m(\u001b[0m\u001b[1m)\u001b[0m\n",
       "\n",
       "for the California housing dataset and::\n",
       "\n",
       "    from sklearn.datasets import fetch_openml\n",
       "    housing = \u001b[1;38;2;225;0;225mfetch_openml\u001b[0m\u001b[1m(\u001b[0m\u001b[38;2;215;175;0mname\u001b[0m=\u001b[38;2;0;135;0m\"house_prices\"\u001b[0m, \u001b[38;2;215;175;0mas_frame\u001b[0m=\u001b[3;38;2;0;135;0mTrue\u001b[0m\u001b[1m)\u001b[0m\n",
       "\n",
       "for the Ames housing dataset.\n",
       "\n",
       "\u001b[1m[\u001b[0m\u001b[1;36m1\u001b[0m\u001b[1m]\u001b[0m M Carlisle.\n",
       "\u001b[38;2;0;135;0m\"Racist data destruction?\"\u001b[0m\n",
       "\u001b[1m<\u001b[0m\u001b[1;4;38;2;0;105;255mhttps:\u001b[0m\u001b[4;38;2;0;105;255m//medium.com/@docintangible/racist-data-destruction-113e3eff54a8\u001b[0m\u001b[39m>\u001b[0m\n",
       "\n",
       "\u001b[1;39m[\u001b[0m\u001b[1;36m2\u001b[0m\u001b[1;39m]\u001b[0m\u001b[39m Harrison Jr, David, and Daniel L. Rubinfeld.\u001b[0m\n",
       "\u001b[38;2;0;135;0m\"Hedonic housing prices and the demand for clean air.\"\u001b[0m\n",
       "\u001b[39mJournal of environmental economics and management \u001b[0m\u001b[1;36m5.1\u001b[0m\u001b[39m \u001b[0m\u001b[1;39m(\u001b[0m\u001b[1;36m1978\u001b[0m\u001b[1;39m)\u001b[0m\u001b[39m: \u001b[0m\u001b[1;36m81\u001b[0m\u001b[39m-\u001b[0m\u001b[1;36m102\u001b[0m\u001b[39m.\u001b[0m\n",
       "\u001b[39m<\u001b[0m\u001b[4;38;2;0;105;255mhttps://www.researchgate.net/publication/4974606_Hedonic_housing_prices_and_the_demand_for_clean_air\u001b[0m\u001b[1m>\u001b[0m\n",
       "\n"
      ]
     },
     "metadata": {},
     "output_type": "display_data"
    }
   ],
   "source": [
    "import pandas as pd\n",
    "from sklearn.model_selection import train_test_split\n",
    "from sklearn.datasets import load_boston\n",
    "## ImportError: `load_boston` has been removed from scikit-learn since version 1.2.\n",
    "data = load_boston()\n",
    "X_train, X_test, y_train, y_test = train_test_split(\n",
    "    data.data, data.target, test_size=0.25, random_state=42\n",
    ")\n",
    "trainX = pd.DataFrame(X_train, columns=data.feature_names)\n",
    "trainX[\"target\"] = y_train\n",
    "testX = pd.DataFrame(X_test, columns=data.feature_names)\n",
    "testX[\"target\"] = y_test\n",
    "## don't panic. skip this cell. scroll down.\n",
    "## read the error message if you are interested.  "
   ]
  },
  {
   "cell_type": "code",
   "execution_count": null,
   "id": "9413182d",
   "metadata": {},
   "outputs": [],
   "source": [
    "import pandas as pd\n",
    "from sklearn.model_selection import train_test_split\n",
    "from sklearn.datasets import fetch_california_housing\n",
    "data = fetch_california_housing()\n",
    "X_train, X_test, y_train, y_test = train_test_split(\n",
    "    data.data, data.target, test_size=0.25, random_state=42\n",
    ")\n",
    "trainX = pd.DataFrame(X_train, columns=data.feature_names)\n",
    "trainX[\"target\"] = y_train\n",
    "testX = pd.DataFrame(X_test, columns=data.feature_names)\n",
    "testX[\"target\"] = y_test"
   ]
  },
  {
   "cell_type": "code",
   "execution_count": 9,
   "id": "981bf4eb",
   "metadata": {},
   "outputs": [
    {
     "data": {
      "text/html": [
       "<div>\n",
       "<style scoped>\n",
       "    .dataframe tbody tr th:only-of-type {\n",
       "        vertical-align: middle;\n",
       "    }\n",
       "\n",
       "    .dataframe tbody tr th {\n",
       "        vertical-align: top;\n",
       "    }\n",
       "\n",
       "    .dataframe thead th {\n",
       "        text-align: right;\n",
       "    }\n",
       "</style>\n",
       "<table border=\"1\" class=\"dataframe\">\n",
       "  <thead>\n",
       "    <tr style=\"text-align: right;\">\n",
       "      <th></th>\n",
       "      <th>MedInc</th>\n",
       "      <th>HouseAge</th>\n",
       "      <th>AveRooms</th>\n",
       "      <th>AveBedrms</th>\n",
       "      <th>Population</th>\n",
       "      <th>AveOccup</th>\n",
       "      <th>Latitude</th>\n",
       "      <th>Longitude</th>\n",
       "      <th>target</th>\n",
       "    </tr>\n",
       "  </thead>\n",
       "  <tbody>\n",
       "    <tr>\n",
       "      <th>7237</th>\n",
       "      <td>6.9810</td>\n",
       "      <td>31.0</td>\n",
       "      <td>6.645833</td>\n",
       "      <td>1.018750</td>\n",
       "      <td>1362.0</td>\n",
       "      <td>2.837500</td>\n",
       "      <td>34.21</td>\n",
       "      <td>-118.33</td>\n",
       "      <td>4.029</td>\n",
       "    </tr>\n",
       "    <tr>\n",
       "      <th>11051</th>\n",
       "      <td>3.1205</td>\n",
       "      <td>30.0</td>\n",
       "      <td>4.132530</td>\n",
       "      <td>0.971888</td>\n",
       "      <td>753.0</td>\n",
       "      <td>3.024096</td>\n",
       "      <td>36.97</td>\n",
       "      <td>-122.00</td>\n",
       "      <td>2.405</td>\n",
       "    </tr>\n",
       "    <tr>\n",
       "      <th>3751</th>\n",
       "      <td>7.5443</td>\n",
       "      <td>9.0</td>\n",
       "      <td>6.723404</td>\n",
       "      <td>0.995745</td>\n",
       "      <td>1675.0</td>\n",
       "      <td>3.563830</td>\n",
       "      <td>37.33</td>\n",
       "      <td>-121.77</td>\n",
       "      <td>3.484</td>\n",
       "    </tr>\n",
       "    <tr>\n",
       "      <th>7602</th>\n",
       "      <td>3.4868</td>\n",
       "      <td>36.0</td>\n",
       "      <td>5.227666</td>\n",
       "      <td>1.008646</td>\n",
       "      <td>886.0</td>\n",
       "      <td>2.553314</td>\n",
       "      <td>33.90</td>\n",
       "      <td>-118.13</td>\n",
       "      <td>2.084</td>\n",
       "    </tr>\n",
       "    <tr>\n",
       "      <th>357</th>\n",
       "      <td>5.2043</td>\n",
       "      <td>15.0</td>\n",
       "      <td>5.551195</td>\n",
       "      <td>0.977816</td>\n",
       "      <td>1408.0</td>\n",
       "      <td>2.402730</td>\n",
       "      <td>35.64</td>\n",
       "      <td>-117.68</td>\n",
       "      <td>0.957</td>\n",
       "    </tr>\n",
       "  </tbody>\n",
       "</table>\n",
       "</div>"
      ],
      "text/plain": [
       "       MedInc  HouseAge  AveRooms  AveBedrms  Population  AveOccup  Latitude  \\\n",
       "7237   6.9810      31.0  6.645833   1.018750      1362.0  2.837500     34.21   \n",
       "11051  3.1205      30.0  4.132530   0.971888       753.0  3.024096     36.97   \n",
       "3751   7.5443       9.0  6.723404   0.995745      1675.0  3.563830     37.33   \n",
       "7602   3.4868      36.0  5.227666   1.008646       886.0  2.553314     33.90   \n",
       "357    5.2043      15.0  5.551195   0.977816      1408.0  2.402730     35.64   \n",
       "\n",
       "       Longitude  target  \n",
       "7237     -118.33   4.029  \n",
       "11051    -122.00   2.405  \n",
       "3751     -121.77   3.484  \n",
       "7602     -118.13   2.084  \n",
       "357      -117.68   0.957  "
      ]
     },
     "execution_count": 9,
     "metadata": {},
     "output_type": "execute_result"
    }
   ],
   "source": [
    "trainX.sample(5)"
   ]
  },
  {
   "cell_type": "code",
   "execution_count": 17,
   "id": "774d1dc1",
   "metadata": {},
   "outputs": [],
   "source": [
    "trainX.head()\n",
    "trainX.to_csv(\"train.csv\")\n",
    "testX.to_csv(\"test.csv\")\n",
    "# send data to S3. SageMaker will take training data from s3\n",
    "train_s3_path = session.upload_data(\n",
    "    path=\"train.csv\", \n",
    "    bucket=bucket, \n",
    "    key_prefix=\"california_housing\"\n",
    ")\n",
    "test_s3_path = session.upload_data(\n",
    "    path=\"test.csv\", \n",
    "    bucket=bucket, \n",
    "    key_prefix=\"california_housing\"\n",
    ")"
   ]
  },
  {
   "cell_type": "code",
   "execution_count": 67,
   "id": "bc35876e",
   "metadata": {},
   "outputs": [
    {
     "name": "stdout",
     "output_type": "stream",
     "text": [
      "Overwriting train.py\n"
     ]
    }
   ],
   "source": [
    "%%writefile train.py\n",
    "import argparse\n",
    "import joblib\n",
    "import os\n",
    "import numpy as np\n",
    "import pandas as pd\n",
    "from sklearn.ensemble import RandomForestRegressor\n",
    "\n",
    "if __name__ == \"__main__\":\n",
    "\n",
    "    print(\"extracting arguments...\")\n",
    "    parser = argparse.ArgumentParser()\n",
    "    # hyperparameters sent by the client are passed as command-line arguments to the script.\n",
    "    # to simplify the demo we don't use all sklearn RandomForest hyperparameters\n",
    "    parser.add_argument(\"--n-estimators\", type=int, default=10)\n",
    "    parser.add_argument(\"--min-samples-leaf\", type=int, default=3)\n",
    "    # Data, model, and output directories\n",
    "    parser.add_argument(\"--model-dir\", type=str, default=os.environ.get(\"SM_MODEL_DIR\"))\n",
    "    parser.add_argument(\"--train\", type=str, default=os.environ.get(\"SM_CHANNEL_TRAIN\"))\n",
    "    parser.add_argument(\"--test\", type=str, default=os.environ.get(\"SM_CHANNEL_TEST\"))\n",
    "    parser.add_argument(\"--train-file\", type=str, default=\"train.csv\")\n",
    "    parser.add_argument(\"--test-file\", type=str, default=\"test.csv\")\n",
    "    parser.add_argument(\n",
    "        \"--features\", type=str\n",
    "    )  # in this script we ask user to explicitly name features\n",
    "    parser.add_argument(\n",
    "        \"--target\", type=str\n",
    "    )  # in this script we ask user to explicitly name the target\n",
    "    args, _ = parser.parse_known_args()\n",
    "\n",
    "    print(\"reading data...\")\n",
    "    train_df = pd.read_csv(os.path.join(args.train, args.train_file))\n",
    "    test_df = pd.read_csv(os.path.join(args.test, args.test_file))\n",
    "\n",
    "    print(\"building training and testing datasets...\")\n",
    "    features = args.features.split()\n",
    "    X_train = train_df[features]\n",
    "    X_test = test_df[features]\n",
    "    y_train = train_df[args.target]\n",
    "    y_test = test_df[args.target]\n",
    "\n",
    "    # train\n",
    "    print(\"training model...\")\n",
    "    model = RandomForestRegressor(\n",
    "        n_estimators=args.n_estimators, \n",
    "        min_samples_leaf=args.min_samples_leaf, \n",
    "        n_jobs=-1\n",
    "    )\n",
    "    model.fit(X_train, y_train)\n",
    "\n",
    "    # print abs error\n",
    "    print(\"validating model...\")\n",
    "    abs_err = np.abs(model.predict(X_test) - y_test)\n",
    "    # print couple perf metrics\n",
    "    for q in [10, 50, 90]:\n",
    "        print(\"AE-at-\" + str(q) + \"th-percentile: \" + str(np.percentile(a=abs_err, q=q)))\n",
    "\n",
    "    # persist model\n",
    "    path = os.path.join(args.model_dir, \"model.joblib\")\n",
    "    joblib.dump(model, path)\n",
    "    print(\"👉 model persisted at \" + path)"
   ]
  },
  {
   "cell_type": "code",
   "execution_count": null,
   "id": "30cdc8eb",
   "metadata": {},
   "outputs": [
    {
     "name": "stdout",
     "output_type": "stream",
     "text": [
      "Overwriting inference.py\n"
     ]
    }
   ],
   "source": [
    "%%writefile inference.py\n",
    "import joblib\n",
    "import os\n",
    "\n",
    "## inference functions\n",
    "def model_fn(model_dir):\n",
    "    clf = joblib.load(os.path.join(model_dir, \"model.joblib\"))  ## classifier\n",
    "    return clf"
   ]
  },
  {
   "cell_type": "code",
   "execution_count": 80,
   "id": "cea4cbf4",
   "metadata": {},
   "outputs": [
    {
     "data": {
      "text/plain": [
       "'MedInc HouseAge AveRooms AveBedrms Population AveOccup Latitude Longitude'"
      ]
     },
     "execution_count": 80,
     "metadata": {},
     "output_type": "execute_result"
    }
   ],
   "source": [
    "features = ' '.join(trainX.columns[:-1].to_list())\n",
    "features"
   ]
  },
  {
   "cell_type": "code",
   "execution_count": null,
   "id": "1cb5bfab",
   "metadata": {},
   "outputs": [
    {
     "name": "stdout",
     "output_type": "stream",
     "text": [
      "extracting arguments...\n",
      "reading data...\n",
      "building training and testing datasets...\n",
      "training model...\n",
      "validating model...\n",
      "AE-at-10th-percentile: 0.030122602056276572\n",
      "AE-at-50th-percentile: 0.19986898214285687\n",
      "AE-at-90th-percentile: 0.7725330218809531\n",
      "👉 model persisted at ./model.joblib\n"
     ]
    }
   ],
   "source": [
    "## fit and save model locally \n",
    "## it has nothing to do with the code that comes after\n",
    "!python train.py --n-estimators 100 \\\n",
    "--min-samples-leaf 2 \\\n",
    "--model-dir ./ \\\n",
    "--train ./ \\\n",
    "--test ./ \\\n",
    "--features f\"\\\"{features_str}\\\"\" \\\n",
    "--target target"
   ]
  },
  {
   "cell_type": "code",
   "execution_count": 81,
   "id": "c02d2993",
   "metadata": {},
   "outputs": [
    {
     "data": {
      "text/html": [
       "<pre style=\"white-space:pre;overflow-x:auto;line-height:normal;font-family:Menlo,'DejaVu Sans Mono',consolas,'Courier New',monospace\"><span style=\"color: #7fbfbf; text-decoration-color: #7fbfbf\">[12/11/24 02:26:38] </span><span style=\"color: #0069ff; text-decoration-color: #0069ff; font-weight: bold\">INFO    </span> Creating training-job with name:                                       <a href=\"file://d:\\Users\\guido\\miniconda3\\envs\\awsmle_py310\\lib\\site-packages\\sagemaker\\session.py\" target=\"_blank\"><span style=\"color: #7f7f7f; text-decoration-color: #7f7f7f\">session.py</span></a><span style=\"color: #7f7f7f; text-decoration-color: #7f7f7f\">:</span><a href=\"file://d:\\Users\\guido\\miniconda3\\envs\\awsmle_py310\\lib\\site-packages\\sagemaker\\session.py#1042\" target=\"_blank\"><span style=\"color: #7f7f7f; text-decoration-color: #7f7f7f\">1042</span></a>\n",
       "<span style=\"color: #7fbfbf; text-decoration-color: #7fbfbf\">                    </span>         rf-scikit-train-<span style=\"color: #008080; text-decoration-color: #008080; font-weight: bold\">2024</span>-12-11-08-26-36-576                                <span style=\"color: #7f7f7f; text-decoration-color: #7f7f7f\">               </span>\n",
       "</pre>\n"
      ],
      "text/plain": [
       "\u001b[2;36m[12/11/24 02:26:38]\u001b[0m\u001b[2;36m \u001b[0m\u001b[1;38;2;0;105;255mINFO    \u001b[0m Creating training-job with name:                                       \u001b]8;id=977478;file://d:\\Users\\guido\\miniconda3\\envs\\awsmle_py310\\lib\\site-packages\\sagemaker\\session.py\u001b\\\u001b[2msession.py\u001b[0m\u001b]8;;\u001b\\\u001b[2m:\u001b[0m\u001b]8;id=468009;file://d:\\Users\\guido\\miniconda3\\envs\\awsmle_py310\\lib\\site-packages\\sagemaker\\session.py#1042\u001b\\\u001b[2m1042\u001b[0m\u001b]8;;\u001b\\\n",
       "\u001b[2;36m                    \u001b[0m         rf-scikit-train-\u001b[1;36m2024\u001b[0m-12-11-08-26-36-576                                \u001b[2m               \u001b[0m\n"
      ]
     },
     "metadata": {},
     "output_type": "display_data"
    },
    {
     "name": "stdout",
     "output_type": "stream",
     "text": [
      "2024-12-11 08:26:43 Starting - Starting the training job...\n",
      "2024-12-11 08:26:57 Starting - Preparing the instances for training...\n",
      "2024-12-11 08:27:21 Downloading - Downloading input data...\n",
      "2024-12-11 08:27:51 Downloading - Downloading the training image...\n",
      "2024-12-11 08:28:52 Training - Training image download completed. Training in progress...2024-12-11 08:29:03,941 sagemaker-containers INFO     Imported framework sagemaker_sklearn_container.training\n",
      "2024-12-11 08:29:03,945 sagemaker-training-toolkit INFO     No GPUs detected (normal if no gpus installed)\n",
      "2024-12-11 08:29:03,948 sagemaker-training-toolkit INFO     No Neurons detected (normal if no neurons installed)\n",
      "2024-12-11 08:29:03,966 sagemaker_sklearn_container.training INFO     Invoking user training script.\n",
      "2024-12-11 08:29:04,231 sagemaker-training-toolkit INFO     Installing dependencies from requirements.txt:\n",
      "/miniconda3/bin/python -m pip install -r requirements.txt\n",
      "Requirement already satisfied: joblib in /miniconda3/lib/python3.8/site-packages (from -r requirements.txt (line 1)) (1.3.2)\n",
      "WARNING: Running pip as the 'root' user can result in broken permissions and conflicting behaviour with the system package manager. It is recommended to use a virtual environment instead: https://pip.pypa.io/warnings/venv\n",
      "2024-12-11 08:29:05,202 sagemaker-training-toolkit INFO     No GPUs detected (normal if no gpus installed)\n",
      "2024-12-11 08:29:05,206 sagemaker-training-toolkit INFO     No Neurons detected (normal if no neurons installed)\n",
      "2024-12-11 08:29:05,227 sagemaker-training-toolkit INFO     No GPUs detected (normal if no gpus installed)\n",
      "2024-12-11 08:29:05,230 sagemaker-training-toolkit INFO     No Neurons detected (normal if no neurons installed)\n",
      "2024-12-11 08:29:05,253 sagemaker-training-toolkit INFO     No GPUs detected (normal if no gpus installed)\n",
      "2024-12-11 08:29:05,257 sagemaker-training-toolkit INFO     No Neurons detected (normal if no neurons installed)\n",
      "2024-12-11 08:29:05,275 sagemaker-training-toolkit INFO     Invoking user script\n",
      "Training Env:\n",
      "{\n",
      "    \"additional_framework_parameters\": {},\n",
      "    \"channel_input_dirs\": {\n",
      "        \"test\": \"/opt/ml/input/data/test\",\n",
      "        \"train\": \"/opt/ml/input/data/train\"\n",
      "    },\n",
      "    \"current_host\": \"algo-1\",\n",
      "    \"current_instance_group\": \"homogeneousCluster\",\n",
      "    \"current_instance_group_hosts\": [\n",
      "        \"algo-1\"\n",
      "    ],\n",
      "    \"current_instance_type\": \"ml.m4.xlarge\",\n",
      "    \"distribution_hosts\": [],\n",
      "    \"distribution_instance_groups\": [],\n",
      "    \"framework_module\": \"sagemaker_sklearn_container.training:main\",\n",
      "    \"hosts\": [\n",
      "        \"algo-1\"\n",
      "    ],\n",
      "    \"hyperparameters\": {\n",
      "        \"features\": \"MedInc HouseAge AveRooms AveBedrms Population AveOccup Latitude Longitude\",\n",
      "        \"min-samples-leaf\": 3,\n",
      "        \"n-estimators\": 100,\n",
      "        \"target\": \"target\"\n",
      "    },\n",
      "    \"input_config_dir\": \"/opt/ml/input/config\",\n",
      "    \"input_data_config\": {\n",
      "        \"test\": {\n",
      "            \"TrainingInputMode\": \"File\",\n",
      "            \"S3DistributionType\": \"FullyReplicated\",\n",
      "            \"RecordWrapperType\": \"None\"\n",
      "        },\n",
      "        \"train\": {\n",
      "            \"TrainingInputMode\": \"File\",\n",
      "            \"S3DistributionType\": \"FullyReplicated\",\n",
      "            \"RecordWrapperType\": \"None\"\n",
      "        }\n",
      "    },\n",
      "    \"input_dir\": \"/opt/ml/input\",\n",
      "    \"instance_groups\": [\n",
      "        \"homogeneousCluster\"\n",
      "    ],\n",
      "    \"instance_groups_dict\": {\n",
      "        \"homogeneousCluster\": {\n",
      "            \"instance_group_name\": \"homogeneousCluster\",\n",
      "            \"instance_type\": \"ml.m4.xlarge\",\n",
      "            \"hosts\": [\n",
      "                \"algo-1\"\n",
      "            ]\n",
      "        }\n",
      "    },\n",
      "    \"is_hetero\": false,\n",
      "    \"is_master\": true,\n",
      "    \"is_modelparallel_enabled\": null,\n",
      "    \"is_smddpmprun_installed\": false,\n",
      "    \"is_smddprun_installed\": false,\n",
      "    \"job_name\": \"rf-scikit-train-2024-12-11-08-26-36-576\",\n",
      "    \"log_level\": 20,\n",
      "    \"master_hostname\": \"algo-1\",\n",
      "    \"model_dir\": \"/opt/ml/model\",\n",
      "    \"module_dir\": \"s3://sagemaker-us-east-1-026211625715/rf-scikit-train-2024-12-11-08-26-36-576/source/sourcedir.tar.gz\",\n",
      "    \"module_name\": \"train\",\n",
      "    \"network_interface_name\": \"eth0\",\n",
      "    \"num_cpus\": 4,\n",
      "    \"num_gpus\": 0,\n",
      "    \"num_neurons\": 0,\n",
      "    \"output_data_dir\": \"/opt/ml/output/data\",\n",
      "    \"output_dir\": \"/opt/ml/output\",\n",
      "    \"output_intermediate_dir\": \"/opt/ml/output/intermediate\",\n",
      "    \"resource_config\": {\n",
      "        \"current_host\": \"algo-1\",\n",
      "        \"current_instance_type\": \"ml.m4.xlarge\",\n",
      "        \"current_group_name\": \"homogeneousCluster\",\n",
      "        \"hosts\": [\n",
      "            \"algo-1\"\n",
      "        ],\n",
      "        \"instance_groups\": [\n",
      "            {\n",
      "                \"instance_group_name\": \"homogeneousCluster\",\n",
      "                \"instance_type\": \"ml.m4.xlarge\",\n",
      "                \"hosts\": [\n",
      "                    \"algo-1\"\n",
      "                ]\n",
      "            }\n",
      "        ],\n",
      "        \"network_interface_name\": \"eth0\"\n",
      "    },\n",
      "    \"user_entry_point\": \"train.py\"\n",
      "}\n",
      "Environment variables:\n",
      "SM_HOSTS=[\"algo-1\"]\n",
      "SM_NETWORK_INTERFACE_NAME=eth0\n",
      "SM_HPS={\"features\":\"MedInc HouseAge AveRooms AveBedrms Population AveOccup Latitude Longitude\",\"min-samples-leaf\":3,\"n-estimators\":100,\"target\":\"target\"}\n",
      "SM_USER_ENTRY_POINT=train.py\n",
      "SM_FRAMEWORK_PARAMS={}\n",
      "SM_RESOURCE_CONFIG={\"current_group_name\":\"homogeneousCluster\",\"current_host\":\"algo-1\",\"current_instance_type\":\"ml.m4.xlarge\",\"hosts\":[\"algo-1\"],\"instance_groups\":[{\"hosts\":[\"algo-1\"],\"instance_group_name\":\"homogeneousCluster\",\"instance_type\":\"ml.m4.xlarge\"}],\"network_interface_name\":\"eth0\"}\n",
      "SM_INPUT_DATA_CONFIG={\"test\":{\"RecordWrapperType\":\"None\",\"S3DistributionType\":\"FullyReplicated\",\"TrainingInputMode\":\"File\"},\"train\":{\"RecordWrapperType\":\"None\",\"S3DistributionType\":\"FullyReplicated\",\"TrainingInputMode\":\"File\"}}\n",
      "SM_OUTPUT_DATA_DIR=/opt/ml/output/data\n",
      "SM_CHANNELS=[\"test\",\"train\"]\n",
      "SM_CURRENT_HOST=algo-1\n",
      "SM_CURRENT_INSTANCE_TYPE=ml.m4.xlarge\n",
      "SM_CURRENT_INSTANCE_GROUP=homogeneousCluster\n",
      "SM_CURRENT_INSTANCE_GROUP_HOSTS=[\"algo-1\"]\n",
      "SM_INSTANCE_GROUPS=[\"homogeneousCluster\"]\n",
      "SM_INSTANCE_GROUPS_DICT={\"homogeneousCluster\":{\"hosts\":[\"algo-1\"],\"instance_group_name\":\"homogeneousCluster\",\"instance_type\":\"ml.m4.xlarge\"}}\n",
      "SM_DISTRIBUTION_INSTANCE_GROUPS=[]\n",
      "SM_IS_HETERO=false\n",
      "SM_MODULE_NAME=train\n",
      "SM_LOG_LEVEL=20\n",
      "SM_FRAMEWORK_MODULE=sagemaker_sklearn_container.training:main\n",
      "SM_INPUT_DIR=/opt/ml/input\n",
      "SM_INPUT_CONFIG_DIR=/opt/ml/input/config\n",
      "SM_OUTPUT_DIR=/opt/ml/output\n",
      "SM_NUM_CPUS=4\n",
      "SM_NUM_GPUS=0\n",
      "SM_NUM_NEURONS=0\n",
      "SM_MODEL_DIR=/opt/ml/model\n",
      "SM_MODULE_DIR=s3://sagemaker-us-east-1-026211625715/rf-scikit-train-2024-12-11-08-26-36-576/source/sourcedir.tar.gz\n",
      "SM_TRAINING_ENV={\"additional_framework_parameters\":{},\"channel_input_dirs\":{\"test\":\"/opt/ml/input/data/test\",\"train\":\"/opt/ml/input/data/train\"},\"current_host\":\"algo-1\",\"current_instance_group\":\"homogeneousCluster\",\"current_instance_group_hosts\":[\"algo-1\"],\"current_instance_type\":\"ml.m4.xlarge\",\"distribution_hosts\":[],\"distribution_instance_groups\":[],\"framework_module\":\"sagemaker_sklearn_container.training:main\",\"hosts\":[\"algo-1\"],\"hyperparameters\":{\"features\":\"MedInc HouseAge AveRooms AveBedrms Population AveOccup Latitude Longitude\",\"min-samples-leaf\":3,\"n-estimators\":100,\"target\":\"target\"},\"input_config_dir\":\"/opt/ml/input/config\",\"input_data_config\":{\"test\":{\"RecordWrapperType\":\"None\",\"S3DistributionType\":\"FullyReplicated\",\"TrainingInputMode\":\"File\"},\"train\":{\"RecordWrapperType\":\"None\",\"S3DistributionType\":\"FullyReplicated\",\"TrainingInputMode\":\"File\"}},\"input_dir\":\"/opt/ml/input\",\"instance_groups\":[\"homogeneousCluster\"],\"instance_groups_dict\":{\"homogeneousCluster\":{\"hosts\":[\"algo-1\"],\"instance_group_name\":\"homogeneousCluster\",\"instance_type\":\"ml.m4.xlarge\"}},\"is_hetero\":false,\"is_master\":true,\"is_modelparallel_enabled\":null,\"is_smddpmprun_installed\":false,\"is_smddprun_installed\":false,\"job_name\":\"rf-scikit-train-2024-12-11-08-26-36-576\",\"log_level\":20,\"master_hostname\":\"algo-1\",\"model_dir\":\"/opt/ml/model\",\"module_dir\":\"s3://sagemaker-us-east-1-026211625715/rf-scikit-train-2024-12-11-08-26-36-576/source/sourcedir.tar.gz\",\"module_name\":\"train\",\"network_interface_name\":\"eth0\",\"num_cpus\":4,\"num_gpus\":0,\"num_neurons\":0,\"output_data_dir\":\"/opt/ml/output/data\",\"output_dir\":\"/opt/ml/output\",\"output_intermediate_dir\":\"/opt/ml/output/intermediate\",\"resource_config\":{\"current_group_name\":\"homogeneousCluster\",\"current_host\":\"algo-1\",\"current_instance_type\":\"ml.m4.xlarge\",\"hosts\":[\"algo-1\"],\"instance_groups\":[{\"hosts\":[\"algo-1\"],\"instance_group_name\":\"homogeneousCluster\",\"instance_type\":\"ml.m4.xlarge\"}],\"network_interface_name\":\"eth0\"},\"user_entry_point\":\"train.py\"}\n",
      "SM_USER_ARGS=[\"--features\",\"MedInc HouseAge AveRooms AveBedrms Population AveOccup Latitude Longitude\",\"--min-samples-leaf\",\"3\",\"--n-estimators\",\"100\",\"--target\",\"target\"]\n",
      "SM_OUTPUT_INTERMEDIATE_DIR=/opt/ml/output/intermediate\n",
      "SM_CHANNEL_TEST=/opt/ml/input/data/test\n",
      "SM_CHANNEL_TRAIN=/opt/ml/input/data/train\n",
      "SM_HP_FEATURES=MedInc HouseAge AveRooms AveBedrms Population AveOccup Latitude Longitude\n",
      "SM_HP_MIN-SAMPLES-LEAF=3\n",
      "SM_HP_N-ESTIMATORS=100\n",
      "SM_HP_TARGET=target\n",
      "PYTHONPATH=/opt/ml/code:/miniconda3/bin:/miniconda3/lib/python38.zip:/miniconda3/lib/python3.8:/miniconda3/lib/python3.8/lib-dynload:/miniconda3/lib/python3.8/site-packages\n",
      "Invoking script with the following command:\n",
      "/miniconda3/bin/python train.py --features MedInc HouseAge AveRooms AveBedrms Population AveOccup Latitude Longitude --min-samples-leaf 3 --n-estimators 100 --target target\n",
      "2024-12-11 08:29:05,276 sagemaker-training-toolkit INFO     Exceptions not imported for SageMaker Debugger as it is not installed.\n",
      "2024-12-11 08:29:05,276 sagemaker-training-toolkit INFO     Exceptions not imported for SageMaker TF as Tensorflow is not installed.\n",
      "extracting arguments...\n",
      "reading data...\n",
      "building training and testing datasets...\n",
      "training model...\n",
      "\n",
      "2024-12-11 08:29:17 Uploading - Uploading generated training modelvalidating model...\n",
      "AE-at-10th-percentile: 0.03142784695166019\n",
      "AE-at-50th-percentile: 0.20559839664502177\n",
      "AE-at-90th-percentile: 0.7771575263079441\n",
      "👉 model persisted at /opt/ml/model/model.joblib\n",
      "2024-12-11 08:29:09,599 sagemaker-containers INFO     Reporting training SUCCESS\n",
      "\n",
      "2024-12-11 08:29:30 Completed - Training job completed\n",
      "Training seconds: 130\n",
      "Billable seconds: 130\n",
      "CPU times: total: 5.05 s\n",
      "Wall time: 3min 30s\n"
     ]
    }
   ],
   "source": [
    "%%time\n",
    "# We use the Estimator from the SageMaker Python SDK\n",
    "from sagemaker.sklearn.estimator import SKLearn\n",
    "FRAMEWORK_VERSION = \"1.0-1\" ## \"0.23-1\", \"1.0-1\"\n",
    "sklearn_estimator = SKLearn(\n",
    "    entry_point=\"train.py\",\n",
    "    role=role_arn,\n",
    "    instance_count=1,\n",
    "    instance_type=\"ml.m4.xlarge\", # \"ml.c5.xlarge\",\n",
    "    framework_version=FRAMEWORK_VERSION,\n",
    "    dependencies=[\"requirements.txt\"],   \n",
    "    base_job_name=\"rf-scikit-train\",\n",
    "    metric_definitions=[{\n",
    "        \"Name\": \"median-AE\", \n",
    "        \"Regex\": \"AE-at-50th-percentile: ([0-9.]+).*$\"\n",
    "    }],\n",
    "    hyperparameters={\n",
    "        \"n-estimators\": 100,\n",
    "        \"min-samples-leaf\": 3,\n",
    "        # \"features\": \"CRIM ZN INDUS CHAS NOX RM AGE DIS RAD TAX PTRATIO B LSTAT\",\n",
    "        \"features\": features,\n",
    "        \"target\": \"target\",\n",
    "    },\n",
    ")\n",
    "# launch training job, with asynchronous call\n",
    "sklearn_estimator.fit(\n",
    "    {\n",
    "        \"train\": train_s3_path, \n",
    "        \"test\": test_s3_path\n",
    "    }, \n",
    "    wait=True\n",
    ")\n",
    "## e.g. Creating training-job with name: rf-scikit-train-2024-12-11-07-41-02-083\n",
    "## CPU times: total: 4.81 s\n",
    "## Wall time: 3min 29s"
   ]
  },
  {
   "cell_type": "code",
   "execution_count": 82,
   "id": "b7f115b4",
   "metadata": {},
   "outputs": [
    {
     "name": "stdout",
     "output_type": "stream",
     "text": [
      "\n",
      "2024-12-11 08:29:30 Starting - Preparing the instances for training\n",
      "2024-12-11 08:29:30 Downloading - Downloading the training image\n",
      "2024-12-11 08:29:30 Training - Training image download completed. Training in progress.\n",
      "2024-12-11 08:29:30 Uploading - Uploading generated training model\n",
      "2024-12-11 08:29:30 Completed - Training job completed\n",
      "Model artifact persisted at s3://sagemaker-us-east-1-026211625715/rf-scikit-train-2024-12-11-08-26-36-576/output/model.tar.gz\n"
     ]
    }
   ],
   "source": [
    "## print out training job history\n",
    "sklearn_estimator.latest_training_job.wait(logs=\"None\")\n",
    "model_artifact = sagemaker_client.describe_training_job(\n",
    "    TrainingJobName=sklearn_estimator.latest_training_job.name\n",
    ")[\"ModelArtifacts\"][\"S3ModelArtifacts\"]\n",
    "print(\"Model artifact persisted at \" + model_artifact)"
   ]
  },
  {
   "cell_type": "code",
   "execution_count": null,
   "id": "c4731c1d",
   "metadata": {},
   "outputs": [
    {
     "data": {
      "text/html": [
       "<pre style=\"white-space:pre;overflow-x:auto;line-height:normal;font-family:Menlo,'DejaVu Sans Mono',consolas,'Courier New',monospace\"><span style=\"color: #7fbfbf; text-decoration-color: #7fbfbf\">[12/11/24 05:19:44] </span><span style=\"color: #0069ff; text-decoration-color: #0069ff; font-weight: bold\">INFO    </span> Creating model with name:                                              <a href=\"file://d:\\Users\\guido\\miniconda3\\envs\\awsmle_py310\\lib\\site-packages\\sagemaker\\session.py\" target=\"_blank\"><span style=\"color: #7f7f7f; text-decoration-color: #7f7f7f\">session.py</span></a><span style=\"color: #7f7f7f; text-decoration-color: #7f7f7f\">:</span><a href=\"file://d:\\Users\\guido\\miniconda3\\envs\\awsmle_py310\\lib\\site-packages\\sagemaker\\session.py#4025\" target=\"_blank\"><span style=\"color: #7f7f7f; text-decoration-color: #7f7f7f\">4025</span></a>\n",
       "<span style=\"color: #7fbfbf; text-decoration-color: #7fbfbf\">                    </span>         sagemaker-scikit-learn-<span style=\"color: #008080; text-decoration-color: #008080; font-weight: bold\">2024</span>-12-11-11-19-44-029                         <span style=\"color: #7f7f7f; text-decoration-color: #7f7f7f\">               </span>\n",
       "</pre>\n"
      ],
      "text/plain": [
       "\u001b[2;36m[12/11/24 05:19:44]\u001b[0m\u001b[2;36m \u001b[0m\u001b[1;38;2;0;105;255mINFO    \u001b[0m Creating model with name:                                              \u001b]8;id=308977;file://d:\\Users\\guido\\miniconda3\\envs\\awsmle_py310\\lib\\site-packages\\sagemaker\\session.py\u001b\\\u001b[2msession.py\u001b[0m\u001b]8;;\u001b\\\u001b[2m:\u001b[0m\u001b]8;id=550782;file://d:\\Users\\guido\\miniconda3\\envs\\awsmle_py310\\lib\\site-packages\\sagemaker\\session.py#4025\u001b\\\u001b[2m4025\u001b[0m\u001b]8;;\u001b\\\n",
       "\u001b[2;36m                    \u001b[0m         sagemaker-scikit-learn-\u001b[1;36m2024\u001b[0m-12-11-11-19-44-029                         \u001b[2m               \u001b[0m\n"
      ]
     },
     "metadata": {},
     "output_type": "display_data"
    },
    {
     "data": {
      "text/html": [
       "<pre style=\"white-space:pre;overflow-x:auto;line-height:normal;font-family:Menlo,'DejaVu Sans Mono',consolas,'Courier New',monospace\"><span style=\"color: #7fbfbf; text-decoration-color: #7fbfbf\">[12/11/24 05:19:45] </span><span style=\"color: #0069ff; text-decoration-color: #0069ff; font-weight: bold\">INFO    </span> Creating endpoint-config with name                                     <a href=\"file://d:\\Users\\guido\\miniconda3\\envs\\awsmle_py310\\lib\\site-packages\\sagemaker\\session.py\" target=\"_blank\"><span style=\"color: #7f7f7f; text-decoration-color: #7f7f7f\">session.py</span></a><span style=\"color: #7f7f7f; text-decoration-color: #7f7f7f\">:</span><a href=\"file://d:\\Users\\guido\\miniconda3\\envs\\awsmle_py310\\lib\\site-packages\\sagemaker\\session.py#5820\" target=\"_blank\"><span style=\"color: #7f7f7f; text-decoration-color: #7f7f7f\">5820</span></a>\n",
       "<span style=\"color: #7fbfbf; text-decoration-color: #7fbfbf\">                    </span>         sagemaker-scikit-learn-<span style=\"color: #008080; text-decoration-color: #008080; font-weight: bold\">2024</span>-12-11-11-19-45-103                         <span style=\"color: #7f7f7f; text-decoration-color: #7f7f7f\">               </span>\n",
       "</pre>\n"
      ],
      "text/plain": [
       "\u001b[2;36m[12/11/24 05:19:45]\u001b[0m\u001b[2;36m \u001b[0m\u001b[1;38;2;0;105;255mINFO    \u001b[0m Creating endpoint-config with name                                     \u001b]8;id=263981;file://d:\\Users\\guido\\miniconda3\\envs\\awsmle_py310\\lib\\site-packages\\sagemaker\\session.py\u001b\\\u001b[2msession.py\u001b[0m\u001b]8;;\u001b\\\u001b[2m:\u001b[0m\u001b]8;id=710180;file://d:\\Users\\guido\\miniconda3\\envs\\awsmle_py310\\lib\\site-packages\\sagemaker\\session.py#5820\u001b\\\u001b[2m5820\u001b[0m\u001b]8;;\u001b\\\n",
       "\u001b[2;36m                    \u001b[0m         sagemaker-scikit-learn-\u001b[1;36m2024\u001b[0m-12-11-11-19-45-103                         \u001b[2m               \u001b[0m\n"
      ]
     },
     "metadata": {},
     "output_type": "display_data"
    },
    {
     "data": {
      "text/html": [
       "<pre style=\"white-space:pre;overflow-x:auto;line-height:normal;font-family:Menlo,'DejaVu Sans Mono',consolas,'Courier New',monospace\"><span style=\"color: #7fbfbf; text-decoration-color: #7fbfbf\">                    </span><span style=\"color: #0069ff; text-decoration-color: #0069ff; font-weight: bold\">INFO    </span> Creating endpoint with name                                            <a href=\"file://d:\\Users\\guido\\miniconda3\\envs\\awsmle_py310\\lib\\site-packages\\sagemaker\\session.py\" target=\"_blank\"><span style=\"color: #7f7f7f; text-decoration-color: #7f7f7f\">session.py</span></a><span style=\"color: #7f7f7f; text-decoration-color: #7f7f7f\">:</span><a href=\"file://d:\\Users\\guido\\miniconda3\\envs\\awsmle_py310\\lib\\site-packages\\sagemaker\\session.py#4642\" target=\"_blank\"><span style=\"color: #7f7f7f; text-decoration-color: #7f7f7f\">4642</span></a>\n",
       "<span style=\"color: #7fbfbf; text-decoration-color: #7fbfbf\">                    </span>         sagemaker-scikit-learn-<span style=\"color: #008080; text-decoration-color: #008080; font-weight: bold\">2024</span>-12-11-11-19-45-103                         <span style=\"color: #7f7f7f; text-decoration-color: #7f7f7f\">               </span>\n",
       "</pre>\n"
      ],
      "text/plain": [
       "\u001b[2;36m                   \u001b[0m\u001b[2;36m \u001b[0m\u001b[1;38;2;0;105;255mINFO    \u001b[0m Creating endpoint with name                                            \u001b]8;id=822272;file://d:\\Users\\guido\\miniconda3\\envs\\awsmle_py310\\lib\\site-packages\\sagemaker\\session.py\u001b\\\u001b[2msession.py\u001b[0m\u001b]8;;\u001b\\\u001b[2m:\u001b[0m\u001b]8;id=87622;file://d:\\Users\\guido\\miniconda3\\envs\\awsmle_py310\\lib\\site-packages\\sagemaker\\session.py#4642\u001b\\\u001b[2m4642\u001b[0m\u001b]8;;\u001b\\\n",
       "\u001b[2;36m                    \u001b[0m         sagemaker-scikit-learn-\u001b[1;36m2024\u001b[0m-12-11-11-19-45-103                         \u001b[2m               \u001b[0m\n"
      ]
     },
     "metadata": {},
     "output_type": "display_data"
    },
    {
     "name": "stdout",
     "output_type": "stream",
     "text": [
      "------!CPU times: total: 1.53 s\n",
      "Wall time: 3min 35s\n"
     ]
    }
   ],
   "source": [
    "%%time\n",
    "## deploy the trained model\n",
    "## The SageMaker scikit-learn environment includes the following by default:\n",
    "## scikit-learn, joblib, numpy, pandas, Other commonly used ML and data processing libraries\n",
    "from sagemaker.sklearn.model import SKLearnModel\n",
    "# from sagemaker.serializers import CSVSerializer\n",
    "from sagemaker.serializers import JSONSerializer\n",
    "from sagemaker.deserializers import JSONDeserializer\n",
    "try:\n",
    "    model_artifact\n",
    "except:\n",
    "    model_artifact = \"s3://sagemaker-us-east-1-026211625715/rf-scikit-train-2024-12-11-08-26-36-576/output/model.tar.gz\"\n",
    "model = SKLearnModel(\n",
    "    model_data=model_artifact,\n",
    "    role=role_arn,\n",
    "    entry_point=\"inference.py\",\n",
    "    framework_version=FRAMEWORK_VERSION,\n",
    "    dependencies=[\"deploy_requirements.txt\"],\n",
    ")\n",
    "predictor = model.deploy(\n",
    "    instance_type=\"ml.c5.large\", ## \"ml.m4.xlarge\", \"ml.c5.large\"\n",
    "    initial_instance_count=1)\n",
    "## e.g. endpoint: sagemaker-scikit-learn-2024-12-11-06-38-03-653  \n",
    "## Wall time: 3min 35s"
   ]
  },
  {
   "cell_type": "code",
   "execution_count": 63,
   "id": "cdc2a3ae",
   "metadata": {},
   "outputs": [
    {
     "data": {
      "text/html": [
       "<div>\n",
       "<style scoped>\n",
       "    .dataframe tbody tr th:only-of-type {\n",
       "        vertical-align: middle;\n",
       "    }\n",
       "\n",
       "    .dataframe tbody tr th {\n",
       "        vertical-align: top;\n",
       "    }\n",
       "\n",
       "    .dataframe thead th {\n",
       "        text-align: right;\n",
       "    }\n",
       "</style>\n",
       "<table border=\"1\" class=\"dataframe\">\n",
       "  <thead>\n",
       "    <tr style=\"text-align: right;\">\n",
       "      <th></th>\n",
       "      <th>MedInc</th>\n",
       "      <th>HouseAge</th>\n",
       "      <th>AveRooms</th>\n",
       "      <th>AveBedrms</th>\n",
       "      <th>Population</th>\n",
       "      <th>AveOccup</th>\n",
       "      <th>Latitude</th>\n",
       "      <th>Longitude</th>\n",
       "      <th>target</th>\n",
       "    </tr>\n",
       "  </thead>\n",
       "  <tbody>\n",
       "    <tr>\n",
       "      <th>3516</th>\n",
       "      <td>1.8299</td>\n",
       "      <td>9.0</td>\n",
       "      <td>3.730475</td>\n",
       "      <td>1.102603</td>\n",
       "      <td>1780.0</td>\n",
       "      <td>2.725881</td>\n",
       "      <td>32.72</td>\n",
       "      <td>-117.13</td>\n",
       "      <td>1.375</td>\n",
       "    </tr>\n",
       "    <tr>\n",
       "      <th>4591</th>\n",
       "      <td>2.9107</td>\n",
       "      <td>28.0</td>\n",
       "      <td>4.083333</td>\n",
       "      <td>0.981481</td>\n",
       "      <td>504.0</td>\n",
       "      <td>4.666667</td>\n",
       "      <td>34.07</td>\n",
       "      <td>-117.98</td>\n",
       "      <td>1.525</td>\n",
       "    </tr>\n",
       "  </tbody>\n",
       "</table>\n",
       "</div>"
      ],
      "text/plain": [
       "      MedInc  HouseAge  AveRooms  AveBedrms  Population  AveOccup  Latitude  \\\n",
       "3516  1.8299       9.0  3.730475   1.102603      1780.0  2.725881     32.72   \n",
       "4591  2.9107      28.0  4.083333   0.981481       504.0  4.666667     34.07   \n",
       "\n",
       "      Longitude  target  \n",
       "3516    -117.13   1.375  \n",
       "4591    -117.98   1.525  "
      ]
     },
     "execution_count": 63,
     "metadata": {},
     "output_type": "execute_result"
    }
   ],
   "source": [
    "import numpy as np\n",
    "import pandas as pd \n",
    "from sagemaker.predictor import Predictor\n",
    "from sagemaker.serializers import JSONSerializer\n",
    "from sagemaker.deserializers import JSONDeserializer\n",
    "try:\n",
    "    predictor\n",
    "except:\n",
    "    ## instantiate a predictor \n",
    "    endpoint_name = \"sagemaker-scikit-learn-2024-12-11-11-19-45-103\"\n",
    "    predictor = Predictor(endpoint_name=endpoint_name)\n",
    "predictor.serializer = JSONSerializer()\n",
    "predictor.deserializer = JSONDeserializer()\n",
    "## read test.csv to testX dataframe\n",
    "testX = pd.read_csv(\"test.csv\", index_col=0)\n",
    "testX.sample(2)"
   ]
  },
  {
   "cell_type": "code",
   "execution_count": 65,
   "id": "5cf14d05",
   "metadata": {},
   "outputs": [
    {
     "name": "stdout",
     "output_type": "stream",
     "text": [
      "👉\tPredition: [2.617300347402599, 1.9462303535353538, 1.7003786709956707], type: <class 'list'>\n",
      "\tAbsolute Error: [0.20230035 0.31176965 0.07337867]\n",
      "👉\tInput data:\n",
      "[[ 4.95500000e+00  4.00000000e+00  5.39045936e+00  1.09893993e+00\n",
      "   3.77500000e+03  2.22320377e+00  3.30000000e+01 -1.17070000e+02]\n",
      " [ 3.99290000e+00  1.40000000e+01  4.57104796e+00  1.04973357e+00\n",
      "   3.17100000e+03  2.81616341e+00  3.37300000e+01 -1.17920000e+02]\n",
      " [ 3.86720000e+00  4.20000000e+01  4.41666667e+00  9.82456140e-01\n",
      "   7.76000000e+02  3.40350877e+00  3.39000000e+01 -1.18070000e+02]]\n"
     ]
    },
    {
     "data": {
      "text/html": [
       "<div>\n",
       "<style scoped>\n",
       "    .dataframe tbody tr th:only-of-type {\n",
       "        vertical-align: middle;\n",
       "    }\n",
       "\n",
       "    .dataframe tbody tr th {\n",
       "        vertical-align: top;\n",
       "    }\n",
       "\n",
       "    .dataframe thead th {\n",
       "        text-align: right;\n",
       "    }\n",
       "</style>\n",
       "<table border=\"1\" class=\"dataframe\">\n",
       "  <thead>\n",
       "    <tr style=\"text-align: right;\">\n",
       "      <th></th>\n",
       "      <th>MedInc</th>\n",
       "      <th>HouseAge</th>\n",
       "      <th>AveRooms</th>\n",
       "      <th>AveBedrms</th>\n",
       "      <th>Population</th>\n",
       "      <th>AveOccup</th>\n",
       "      <th>Latitude</th>\n",
       "      <th>Longitude</th>\n",
       "      <th>target</th>\n",
       "    </tr>\n",
       "  </thead>\n",
       "  <tbody>\n",
       "    <tr>\n",
       "      <th>2128</th>\n",
       "      <td>4.9550</td>\n",
       "      <td>4.0</td>\n",
       "      <td>5.390459</td>\n",
       "      <td>1.098940</td>\n",
       "      <td>3775.0</td>\n",
       "      <td>2.223204</td>\n",
       "      <td>33.00</td>\n",
       "      <td>-117.07</td>\n",
       "      <td>2.415</td>\n",
       "    </tr>\n",
       "    <tr>\n",
       "      <th>1498</th>\n",
       "      <td>3.9929</td>\n",
       "      <td>14.0</td>\n",
       "      <td>4.571048</td>\n",
       "      <td>1.049734</td>\n",
       "      <td>3171.0</td>\n",
       "      <td>2.816163</td>\n",
       "      <td>33.73</td>\n",
       "      <td>-117.92</td>\n",
       "      <td>2.258</td>\n",
       "    </tr>\n",
       "    <tr>\n",
       "      <th>2971</th>\n",
       "      <td>3.8672</td>\n",
       "      <td>42.0</td>\n",
       "      <td>4.416667</td>\n",
       "      <td>0.982456</td>\n",
       "      <td>776.0</td>\n",
       "      <td>3.403509</td>\n",
       "      <td>33.90</td>\n",
       "      <td>-118.07</td>\n",
       "      <td>1.627</td>\n",
       "    </tr>\n",
       "  </tbody>\n",
       "</table>\n",
       "</div>"
      ],
      "text/plain": [
       "      MedInc  HouseAge  AveRooms  AveBedrms  Population  AveOccup  Latitude  \\\n",
       "2128  4.9550       4.0  5.390459   1.098940      3775.0  2.223204     33.00   \n",
       "1498  3.9929      14.0  4.571048   1.049734      3171.0  2.816163     33.73   \n",
       "2971  3.8672      42.0  4.416667   0.982456       776.0  3.403509     33.90   \n",
       "\n",
       "      Longitude  target  \n",
       "2128    -117.07   2.415  \n",
       "1498    -117.92   2.258  \n",
       "2971    -118.07   1.627  "
      ]
     },
     "execution_count": 65,
     "metadata": {},
     "output_type": "execute_result"
    }
   ],
   "source": [
    "## randomly select data points from the test dataset\n",
    "row = testX.sample(3)  ## <class 'pandas.core.frame.DataFrame'>\n",
    "input_data = row.drop('target', axis=1).to_numpy()\n",
    "## make a prediction\n",
    "prediction = predictor.predict(input_data)\n",
    "print(f\"👉\\tPredition: {prediction},\", \"type:\", type(prediction))\n",
    "print(\"\\tAbsolute Error:\", np.abs(prediction - row['target'].values))\n",
    "print(\"👉\\tInput data:\")\n",
    "print(input_data)\n",
    "testX.iloc[row.index,:]"
   ]
  },
  {
   "cell_type": "code",
   "execution_count": null,
   "id": "601fe4e7",
   "metadata": {},
   "outputs": [
    {
     "name": "stderr",
     "output_type": "stream",
     "text": [
      "100%|██████████| 1000/1000 [04:15<00:00,  3.92it/s]\n"
     ]
    }
   ],
   "source": [
    "## set up autoscaling and test it\n",
    "from concurrent.futures import ThreadPoolExecutor\n",
    "from tqdm import tqdm\n",
    "def send_request():\n",
    "    row = testX.sample(2)  \n",
    "    input_data = row.drop('target', axis=1).to_numpy()\n",
    "    predictor.predict(input_data)\n",
    "num_requests = 10 ## # Adjust the number to simulate load\n",
    "for _ in tqdm(range(100)):\n",
    "    with ThreadPoolExecutor(max_workers=num_requests) as executor:\n",
    "        futures = [executor.submit(send_request) for _ in range(num_requests)]\n",
    "        # for future in futures:\n",
    "        #     future.result()  # Wait for the request to complete"
   ]
  },
  {
   "cell_type": "markdown",
   "id": "1e1f8d1f",
   "metadata": {},
   "source": [
    "## **⚠️ Delete endpoint model and endpoint (IMPORTANT)**   "
   ]
  },
  {
   "cell_type": "code",
   "execution_count": 70,
   "id": "51dcd0dc",
   "metadata": {},
   "outputs": [
    {
     "name": "stdout",
     "output_type": "stream",
     "text": [
      "🟢 Model deleted: sagemaker-scikit-learn-2024-12-11-11-19-44-029\n"
     ]
    },
    {
     "data": {
      "text/html": [
       "<pre style=\"white-space:pre;overflow-x:auto;line-height:normal;font-family:Menlo,'DejaVu Sans Mono',consolas,'Courier New',monospace\"><span style=\"color: #7fbfbf; text-decoration-color: #7fbfbf\">[12/11/24 05:48:26] </span><span style=\"color: #0069ff; text-decoration-color: #0069ff; font-weight: bold\">INFO    </span> Deleting endpoint configuration with name:                             <a href=\"file://d:\\Users\\guido\\miniconda3\\envs\\awsmle_py310\\lib\\site-packages\\sagemaker\\session.py\" target=\"_blank\"><span style=\"color: #7f7f7f; text-decoration-color: #7f7f7f\">session.py</span></a><span style=\"color: #7f7f7f; text-decoration-color: #7f7f7f\">:</span><a href=\"file://d:\\Users\\guido\\miniconda3\\envs\\awsmle_py310\\lib\\site-packages\\sagemaker\\session.py#4796\" target=\"_blank\"><span style=\"color: #7f7f7f; text-decoration-color: #7f7f7f\">4796</span></a>\n",
       "<span style=\"color: #7fbfbf; text-decoration-color: #7fbfbf\">                    </span>         sagemaker-scikit-learn-<span style=\"color: #008080; text-decoration-color: #008080; font-weight: bold\">2024</span>-12-11-11-19-45-103                         <span style=\"color: #7f7f7f; text-decoration-color: #7f7f7f\">               </span>\n",
       "</pre>\n"
      ],
      "text/plain": [
       "\u001b[2;36m[12/11/24 05:48:26]\u001b[0m\u001b[2;36m \u001b[0m\u001b[1;38;2;0;105;255mINFO    \u001b[0m Deleting endpoint configuration with name:                             \u001b]8;id=574984;file://d:\\Users\\guido\\miniconda3\\envs\\awsmle_py310\\lib\\site-packages\\sagemaker\\session.py\u001b\\\u001b[2msession.py\u001b[0m\u001b]8;;\u001b\\\u001b[2m:\u001b[0m\u001b]8;id=789736;file://d:\\Users\\guido\\miniconda3\\envs\\awsmle_py310\\lib\\site-packages\\sagemaker\\session.py#4796\u001b\\\u001b[2m4796\u001b[0m\u001b]8;;\u001b\\\n",
       "\u001b[2;36m                    \u001b[0m         sagemaker-scikit-learn-\u001b[1;36m2024\u001b[0m-12-11-11-19-45-103                         \u001b[2m               \u001b[0m\n"
      ]
     },
     "metadata": {},
     "output_type": "display_data"
    },
    {
     "data": {
      "text/html": [
       "<pre style=\"white-space:pre;overflow-x:auto;line-height:normal;font-family:Menlo,'DejaVu Sans Mono',consolas,'Courier New',monospace\"><span style=\"color: #7fbfbf; text-decoration-color: #7fbfbf\">                    </span><span style=\"color: #0069ff; text-decoration-color: #0069ff; font-weight: bold\">INFO    </span> Deleting endpoint with name:                                           <a href=\"file://d:\\Users\\guido\\miniconda3\\envs\\awsmle_py310\\lib\\site-packages\\sagemaker\\session.py\" target=\"_blank\"><span style=\"color: #7f7f7f; text-decoration-color: #7f7f7f\">session.py</span></a><span style=\"color: #7f7f7f; text-decoration-color: #7f7f7f\">:</span><a href=\"file://d:\\Users\\guido\\miniconda3\\envs\\awsmle_py310\\lib\\site-packages\\sagemaker\\session.py#4786\" target=\"_blank\"><span style=\"color: #7f7f7f; text-decoration-color: #7f7f7f\">4786</span></a>\n",
       "<span style=\"color: #7fbfbf; text-decoration-color: #7fbfbf\">                    </span>         sagemaker-scikit-learn-<span style=\"color: #008080; text-decoration-color: #008080; font-weight: bold\">2024</span>-12-11-11-19-45-103                         <span style=\"color: #7f7f7f; text-decoration-color: #7f7f7f\">               </span>\n",
       "</pre>\n"
      ],
      "text/plain": [
       "\u001b[2;36m                   \u001b[0m\u001b[2;36m \u001b[0m\u001b[1;38;2;0;105;255mINFO    \u001b[0m Deleting endpoint with name:                                           \u001b]8;id=445420;file://d:\\Users\\guido\\miniconda3\\envs\\awsmle_py310\\lib\\site-packages\\sagemaker\\session.py\u001b\\\u001b[2msession.py\u001b[0m\u001b]8;;\u001b\\\u001b[2m:\u001b[0m\u001b]8;id=462035;file://d:\\Users\\guido\\miniconda3\\envs\\awsmle_py310\\lib\\site-packages\\sagemaker\\session.py#4786\u001b\\\u001b[2m4786\u001b[0m\u001b]8;;\u001b\\\n",
       "\u001b[2;36m                    \u001b[0m         sagemaker-scikit-learn-\u001b[1;36m2024\u001b[0m-12-11-11-19-45-103                         \u001b[2m               \u001b[0m\n"
      ]
     },
     "metadata": {},
     "output_type": "display_data"
    },
    {
     "name": "stdout",
     "output_type": "stream",
     "text": [
      "🟢 Endpoint deleted: sagemaker-scikit-learn-2024-12-11-11-19-45-103\n"
     ]
    }
   ],
   "source": [
    "import boto3\n",
    "## delete the endpoint model\n",
    "endpoint_info = sagemaker_client.describe_endpoint(EndpointName=predictor.endpoint_name)\n",
    "endpoint_config_name = endpoint_info['EndpointConfigName']\n",
    "endpoint_config_info = sagemaker_client.describe_endpoint_config(EndpointConfigName=endpoint_config_name)\n",
    "model_name = endpoint_config_info['ProductionVariants'][0]['ModelName']\n",
    "sagemaker_client.delete_model(ModelName=model_name)\n",
    "print(\"🟢 Model deleted:\", model_name)\n",
    "## delete the endpoint\n",
    "# sagemaker_client.delete_endpoint(\n",
    "#     EndpointName=predictor.endpoint_name)\n",
    "predictor.delete_endpoint()\n",
    "print(\"🟢 Endpoint deleted:\", predictor.endpoint_name)"
   ]
  },
  {
   "cell_type": "markdown",
   "id": "9cef3a04",
   "metadata": {},
   "source": [
    "---   \n",
    "\n",
    "* 🟢⚠️ Issue in the deployment solved:     \n",
    "\n",
    "  1. add dependencies   \n",
    "      ```python\n",
    "      %%writefile inference.py\n",
    "      import joblib\n",
    "      import os\n",
    "      ```   \n",
    "  2. pass a str here in `train.py` (`!python --features f\"\"\\{features}\\\"\"` in bash)  \n",
    "      ```python\n",
    "      hyperparameters={\n",
    "          \"features\": features,\n",
    "      },\n",
    "      ```\n",
    "\n",
    "  ```text\n",
    "  UnexpectedStatusException: Error hosting endpoint sagemaker-scikit-learn-2024-12-11-03-37-43-750: Failed. Reason: \n",
    "  The primary container for production variant AllTraffic did not pass the ping health check. Please check CloudWatch\n",
    "  logs for this endpoint.. Try changing the instance type or reference the troubleshooting page \n",
    "  https://docs.aws.amazon.com/sagemaker/latest/dg/async-inference-troubleshooting.html  \n",
    "  ```  \n",
    "\n",
    "  ```text\n",
    "\n",
    "  2024-12-11T04:01:16.378Z\n",
    "  169.254.178.2 - - [11/Dec/2024:04:01:12 +0000] \"GET /ping HTTP/1.1\" 500 141 \"-\" \"AHC/2.0\"\n",
    "  2024-12-11T04:01:17.307Z\n",
    "  2024-12-11 04:01:17,128 INFO - sagemaker-containers - No GPUs detected (normal if no gpus installed)\n",
    "  2024-12-11T04:01:17.307Z\n",
    "  2024-12-11 04:01:17,129 INFO - sagemaker_sklearn_container.serving - Encountered an unexpected error.\n",
    "  2024-12-11T04:01:17.307Z\n",
    "  [2024-12-11 04:01:17 +0000] [19] [ERROR] Error handling request /ping\n",
    "  2024-12-11T04:01:17.307Z\n",
    "  Traceback (most recent call last): File \"/miniconda3/lib/python3.7/site-packages/gunicorn/workers/base_async.py\", line 55, in handle self.handle_request(listener_name, req, client, addr) File \"/miniconda3/lib/python3.7/site-packages/gunicorn/workers/ggevent.py\", line 143, in handle_request super().handle_request(listener_name, req, sock, addr) File \"/miniconda3/lib/python3.7/site-packages/gunicorn/workers/base_async.py\", line 106, in handle_request respiter = self.wsgi(environ, resp.start_response) File \"/miniconda3/lib/python3.7/site-packages/sagemaker_sklearn_container/serving.py\", line 128, in main serving_env.module_dir) File \"/miniconda3/lib/python3.7/site-packages/sagemaker_sklearn_container/serving.py\", line 105, in import_module user_module = importlib.import_module(module_name) File \"/miniconda3/lib/python3.7/importlib/__init__.py\", line 118, in import_module if name.startswith('.'):\n",
    "  2024-12-11T04:01:17.307Z\n",
    "  AttributeError: 'NoneType' object has no attribute 'startswith'\n",
    "  ```\n",
    "\n",
    "* Check the container packages   \n",
    "  https://github.com/aws/sagemaker-scikit-learn-container/blob/master/requirements.txt    \n",
    "\n",
    "* Check the args documentation  \n",
    "  https://sagemaker.readthedocs.io/en/stable/api/training/estimators.html  "
   ]
  },
  {
   "cell_type": "markdown",
   "id": "df19507a",
   "metadata": {},
   "source": []
  }
 ],
 "metadata": {
  "kernelspec": {
   "display_name": "awsmle_py310",
   "language": "python",
   "name": "python3"
  },
  "language_info": {
   "codemirror_mode": {
    "name": "ipython",
    "version": 3
   },
   "file_extension": ".py",
   "mimetype": "text/x-python",
   "name": "python",
   "nbconvert_exporter": "python",
   "pygments_lexer": "ipython3",
   "version": "3.10.15"
  }
 },
 "nbformat": 4,
 "nbformat_minor": 5
}
